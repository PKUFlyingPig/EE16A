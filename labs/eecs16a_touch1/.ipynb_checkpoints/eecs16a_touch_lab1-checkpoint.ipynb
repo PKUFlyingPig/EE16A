{
 "cells": [
  {
   "cell_type": "markdown",
   "metadata": {},
   "source": [
    "# Touchscreen Lab 1:  Breadboarding Basics and Multimeter Practice\n",
    "\n",
    "### EECS 16A: Designing Information Devices and Systems I, Summer 2020\n",
    "\n",
    "<!--- Remote Edit - Jianshu & Seiya Su20 --->"
   ]
  },
  {
   "cell_type": "markdown",
   "metadata": {},
   "source": [
    "# Table of Contents\n",
    "\n",
    "* [Instructions](#instructions)\n",
    "* [Touch Screen Introduction](#intro)\n",
    "* [Task 1: Breadboarding Basics](#task1)\n",
    "    * [Task 1a: Breadboard Overview](#task1a)\n",
    "    * [Task 1b: TinkerCAD](#task1b)\n",
    "* [Task 2: Breadboard Practice](#task2)\n",
    "    * [Task 2a: LED fader circuit](#task2a)\n",
    "    * [Task 2b: Changing LED Brightness](#task2b)\n",
    "    * [Task 2c: More Breadboarding Examples](#task2c)\n",
    "    <!---* [Task 2d: Mystery Circuit](#task2d)--->\n",
    "* [Task 3: Measurement Practice](#task3)\n",
    "    * [Task 3a: Build the circuit](#task3a)\n",
    "    * [Task 3b: Complete Circuit in TinkerCAD](#task3b)\n",
    "    * [Task 3c: Voltage Divider ](#task3c)\n",
    "    * [Task 3d: Series and Parallel Resistors](#task3d)\n",
    "* [Checkoff](#checkoff)\n",
    "\n",
    "<a id='instructions'></a>\n",
    "## <span style='color:blue'>Instructions</span>\n",
    "* Complete this lab by filling in all of the required sections, marked with **`YOUR CODE HERE`** or **`YOUR ANSWER HERE`**.\n",
    "* When you finish, submit a checkoff request to get checked off for this lab. Be ready to answer a few questions to show your understanding of each section.\n",
    "* Labs will be graded based on completion for teams of 2-4 students.\n",
    "\n",
    "<a id='policies'></a>\n",
    "## <span style='color:blue'>Lab Policies</span>\n",
    "* **YOU MUST ATTEND THE LAB SECTION YOU ARE ENROLLED IN. If you anticipate missing a section, please notify your GSI in advance.**\n",
    "* **You are free to stay for the full allotted time and hack around with the lab setup or code, but please keep the GSI's time in mind and do not work on unrelated assignments.**\n",
    "* **Keep food and drinks (except water) away from your devices / equipment.**"
   ]
  },
  {
   "cell_type": "markdown",
   "metadata": {},
   "source": [
    "<a id='intro'></a>\n",
    "# <span style='color:blue'>Introduction</span>\n",
    "\n",
    "Welcome to the first lab of the touchscreen module! In this module, you will build 2 different touchscreen systems introduced in lecture. Before we can play around with the touchscreens, we have to first learn some hardware fundamentals. In today's lab, we will be working with a simple functional circuit - an LED circuit. We will also work on building up your understanding of breadboarding - the remainder of the touchscreen module will rely heavily on your ability to use and debug a breadboard."
   ]
  },
  {
   "cell_type": "markdown",
   "metadata": {},
   "source": [
    "<a id='task1'></a>\n",
    "# <span style=\"color:blue\">Task 1: Breadboarding Basics</span>\n",
    "As you encountered briefly during the Imaging module at the beginning of the course, breadboards are useful tools that can be used to quickly and easily prototype circuits. Although in the Imaging module you only needed to construct a relatively simple circuit, this module will require you to put together much more complex systems. \n",
    "The goals of the breadboarding basics part of this lab are:\n",
    "1. To familiarize you with converting circuit diagrams into breadboard layouts.\n",
    "2. Get you more comfortable with debugging. \n",
    "\n",
    "The skills you pick up in this portion will help the following labs go much faster."
   ]
  },
  {
   "cell_type": "markdown",
   "metadata": {},
   "source": [
    "<a id='task1a'></a>\n",
    "## <span style=\"color:blue\">Task 1a: Breadboard Overview</span>\n",
    "Breadboards have a series of holes with internal connections to help you easily prototype circuits. A quick reminder from the first imaging lab, there are two types of internally connected lines in a breadboard:\n",
    "1. Power rails (red and blue, marked by the + and - signs), connected vertically.\n",
    "2. Internal rows, connected horizontally. These rows (in the center part of the breadboard) are numbered from 1 to 30 and are shorted (directly connected) across the row. \n",
    "\n",
    "Note: The horizontal rows are not connected across the center divider. This makes it very easy to plug integrated circuit packages (like you will be using later in this lab module) into the breadboard - just place them so that they straddle the notch in the center of the board. \n",
    "\n",
    "In this lab, we will introduce another tool, TinkerCAD, that can simulate your breadboarded circuit online."
   ]
  },
  {
   "cell_type": "markdown",
   "metadata": {},
   "source": [
    "<div style=\"text-align: center\">\n",
    "<img style=\"width: 250px;\" src=\"img/bb_intro_2.png\" align=\"center\"/>\n",
    "</div>"
   ]
  },
  {
   "cell_type": "markdown",
   "metadata": {},
   "source": [
    "<a id='task1b'></a>\n",
    "## <span style=\"color:blue\">Task 1b: TinkerCAD</span>\n",
    "\n",
    "TinkerCAD is an interactive online design, modeling, and simulation tool that includes an extensive library for 3D modeling, electronics, and circuitry. In this lab, we will be using TinkerCAD to build and simulate virtual breadboards in order to verify our designs before building them on the real breadboards. \n",
    "\n",
    "Before proceeding, please read through the **<span style='color:red;font-weight:bold'> [EECS16A TinkerCAD Tutorial](https://docs.google.com/document/d/e/2PACX-1vTVrGBDbRfVI0_LjSeTfw8doili8iS_E_9Fwdk2UShgf7WAgVVoHtyMOpjXadXwD45HNXUbb2ASF18H/pub#h.ckoez949dg4s)</span>** to learn how to register for an account and learn the basics of TinkerCAD. "
   ]
  },
  {
   "cell_type": "markdown",
   "metadata": {},
   "source": [
    "<center>\n",
    "<img style=\"height: 500px;\" src=\"img/tinkercad.jpg\"/>\n",
    "</center>"
   ]
  },
  {
   "cell_type": "markdown",
   "metadata": {},
   "source": [
    "<center><span style='color:red;font-weight:bold;font-size:25px;font-style:italic'>Do not proceed without going through the TinkerCAD tutorial. If you are comfortable using TinkerCAD from discussion you may skip it at your own discretion.</span></center>\n",
    "\n",
    "At this point, you should:\n",
    "1. Have an account on TinkerCAD. \n",
    "1. Know how to build a basic circuit and connect components including a power supply, multimeter, and LED. Feel free to use this same project for the upcoming parts of the lab."
   ]
  },
  {
   "cell_type": "markdown",
   "metadata": {},
   "source": [
    "<a id='task2'></a>\n",
    "# <span style=\"color:blue\">Task 2: Breadboard Practice</span>\n",
    "\n",
    "In this section, we will be using TinkerCAD to simulate each circuit before building it on our physical breadboard. \n",
    "By first building on a virtual breadboard and observing the circuit outputs, we hope your physical breadboarding experience will be smoother."
   ]
  },
  {
   "cell_type": "markdown",
   "metadata": {},
   "source": [
    "<a id='task2a'></a>\n",
    "## <span style=\"color:blue\">Task 2a: LED Fader Circuit</span>"
   ]
  },
  {
   "cell_type": "markdown",
   "metadata": {},
   "source": [
    "<font color=red><b>Reminder</b></font>: Reference the [Lab Equipment Guide](https://docs.google.com/document/d/e/2PACX-1vTVrGBDbRfVI0_LjSeTfw8doili8iS_E_9Fwdk2UShgf7WAgVVoHtyMOpjXadXwD45HNXUbb2ASF18H/pub) for information about your lab kit\n",
    "\n",
    "### Light Emitting Diode (LED)\n",
    "<center>\n",
    "<img src=\"img/diode_sym.png\" style=\"height:50px; display:inline-block;\"> <img src=\"img/wk1_LED.jpg\" style=\"height:70px; display:inline-block;\">\n",
    "</center>\n",
    "<br>\n",
    "\n",
    "An LED is an element that emits light when the voltage across its two terminals is above a certain value. An LED is a polarized device, so its two terminals are not identical, similar to the light sensor you used in the Imaging module.\n",
    "The triangular side of the LED symbol (picture above) and the longer leg of the component is the positive (Anode) terminal of the device.\n",
    "\n",
    "The vertical flat line side of the symbol and the shorter leg of the component corresponds to the negative (Cathode) terminal.\n",
    "\n",
    "The brightness of an LED is directly related to the amount of current going through it; more current leads to higher brightness. To turn on an LED we apply a positive voltage between the Anode and Cathode terminals.\n",
    "\n",
    "<center>\n",
    "<img src=\"img/diode.jpg\" align=\"center\" style=\"height:300px\" /></center>"
   ]
  },
  {
   "cell_type": "markdown",
   "metadata": {},
   "source": [
    "### Potentiometer\n",
    "<center>\n",
    "<img src=\"img/wk1_potentiometer.jpg\" style=\"height:100px; display:inline-block;\">\n",
    "<img src=\"img/potentiometer-symbol-american.png\" style=\"height:70px; display:inline-block;\">\n",
    "<img src=\"img/pot-front.jpg\" style=\"height:100px; display:inline-block;\">    \n",
    "</center>\n",
    "<br>\n",
    "\n",
    "A potentiometer is a variable resistor with 3 terminals. As we turn the knob, the resistance between the middle terminal and either of the end terminals changes; as the resistance to one end terminal increases, the resistance to the other decreases. However, the resistance between the end terminals stays constant. In this lab we will be using a $10k\\Omega$ potentiometer, and controlling its resistance value by turning the knob. \n",
    "\n",
    "Your lab kit will either have a blue potentiometer (on the left) that you can turn with your hand, or a black potentiometer (on the right) that you'll need to use an alligator clip (included in the kit) to turn."
   ]
  },
  {
   "cell_type": "markdown",
   "metadata": {},
   "source": [
    "### Part 1: LED Fader TinkerCAD Breadboarding\n",
    "\n",
    "Here is the circuit diagram of our LED fader circuit. Let's begin building this circuit in TinkerCAD."
   ]
  },
  {
   "cell_type": "markdown",
   "metadata": {},
   "source": [
    "<center>\n",
    "<img src=\"img/wk1_circuit.png\" align=\"center\" style=\"height:350px\" />\n",
    "<img src=\"img/ledfader.png\" align=\"center\" style=\"height:350px\" />\n",
    "</center>"
   ]
  },
  {
   "cell_type": "markdown",
   "metadata": {},
   "source": [
    "<span style='color:red;font-weight:bold'>Construct the following circuit in a new TinkerCAD circuit project. The potentiometer should be set to $10k\\Omega$.</span> **If you did not yet go through the TinkerCAD tutorial, go back to [Task 1b](#task1b) and read through the instructions in the linked guide.**\n",
    "\n",
    "You may use the breadboarded view of the circuit above as guidance. Make sure you understand how the components are connected through the wires and breadboard. Once you have the breadboard set up with all the components (including the power supply and multimeter):\n",
    "\n",
    "1. Set the power supply to $3.2V$ and $0.1A$.\n",
    "1. Set the multimeter to the voltmeter (V) setting.\n",
    "1. Start the simulation by clicking <span style='color:green;font-weight:bold'>Start Simulation</span>.\n",
    "1. Observe the brightness and voltage across the LED as you twist the <span style='color:blue;font-weight:bold'>potentiometer</span>.\n",
    "\n",
    "*Note: We usually use 3.3V as our power supply, but due to TinkerCAD's limited power supply resolution (0.2V steps) 3.2V is the closest we can get.*"
   ]
  },
  {
   "cell_type": "markdown",
   "metadata": {},
   "source": [
    "<span style=\"color:red;font-weight:bold\">What happens when you turn the potentiometer?</span>"
   ]
  },
  {
   "cell_type": "markdown",
   "metadata": {},
   "source": [
    "`YOUR ANSWER HERE`"
   ]
  },
  {
   "cell_type": "markdown",
   "metadata": {},
   "source": [
    "### Part 2: LED Fader Physical Breadboarding\n",
    "\n",
    "We will be using the MSP (USB Power) as our power supply for the rest of the lab, as we did in Imaging 1. \n",
    "In Imaging 1, we learned that the <span style='color:red;font-weight:bold'>Red</span> column is for power (in this case $3.3V$) and the <span style='color:blue;font-weight:bold'>Blue</span> column is for ground. Let's first set up the breadboard with the proper power connections to the MSP. The setup is the same as in Imaging 1.\n",
    "\n",
    "1. Get two Male-to-Female jumper wires from your lab kit (one red/orange, one black/brown)\n",
    "1. Connect the red jumper wire's female end into the MSP's **`3V3`** pin \n",
    "1. Connect the male end of the same red jumper wire to the <span style='color:red;font-weight:bold'>red (+)</span> column\n",
    "1. Connect the black jumper wire's female end into one of the MSP's **`GND`** pins\n",
    "1. Connect the female end of the black jumper wire to the <span style='color:blue;font-weight:bold'>blue (-)</span> column\n",
    "\n",
    "In the following pictures, the white wire connects the **<font color = 'red' size = '3'>3V3</font>** pin on the MSP to the **<font color = 'red' size = '3'>+</font>** column, and the black wire connects between **<font color = 'Black' size = '3'>GND</font>** and **<font color = 'blue' size = '4'>-</font>** column in the breadboard."
   ]
  },
  {
   "cell_type": "markdown",
   "metadata": {},
   "source": [
    "<center>\n",
    "<img src=\"img/bbpower1.jpg\" style=\"height:300px; display:inline-block;\">\n",
    "<img src=\"img/msppower1.jpg\" style=\"height:300px; display:inline-block;\">\n",
    "    <figcaption>Breadboard Connection, Launchpad Connection</figcaption><br>\n",
    "<img src=\"img/launchpad_pins.png\" align=\"center\" style=\"height:400px\" /> \n",
    "    <figcaption>Launchpad Front with Pins Labeled</figcaption>\n",
    "</center>"
   ]
  },
  {
   "cell_type": "markdown",
   "metadata": {},
   "source": [
    "Next, let's plug in the potentiometer. Observe where the potentiometer is plugged in - `E6`, `E8`, and `F7` of the breadboard. Make sure you have it oriented in the same fashion as the picture below.\n",
    "\n",
    "`F7` is the potentiometer's **sweep** connection, where the arrow is in the circuit schematic below. The `E6` and `E8` connections are the two end points of the potentiometer. The end points of the potentiometer have a fixed $R_{total}$ resistance - this particular potentiometer has a $10k\\Omega$ total resistance. The resistance between the **sweep** connection and either end point terminal will always add up to $R_{total}$.\n",
    "\n",
    "<span style='color:red;font-weight:bold'>The breadboard shown below is only to be used as guidance on how to plug in the potentiometer and is not complete.</span>"
   ]
  },
  {
   "cell_type": "markdown",
   "metadata": {},
   "source": [
    "<center>\n",
    "<img src=\"img/potconnection2.jpg\" align=\"center\" style=\"height:400px; display:inline-block\" />\n",
    "\n",
    "<img src=\"img/wk1_circuit.png\" align=\"center\" style=\"height:400px; display:inline-block\" />\n",
    "    <figcaption>Potentiometer on breadboard, LED circuit diagram</figcaption>\n",
    "</center>"
   ]
  },
  {
   "cell_type": "markdown",
   "metadata": {},
   "source": [
    "Now that we have the potentiometer on the breadboard, let's move on to the LED. **Plug one of your LED's long leg into any point on the <span style='color:red'>red (+)</span> column to any other empty row.** Use a Male-to-Male jumper wire to connect the short leg of the LED to `F7`, the **sweeper** connection on the potentiometer. Use the following pictures as reference:"
   ]
  },
  {
   "cell_type": "markdown",
   "metadata": {},
   "source": [
    "<center>\n",
    "<img src=\"img/led_fader_top.jpg\" align=\"center\" style=\"height:300px; display:inline-block\" />\n",
    "<img src=\"img/led_fader_diag.jpg\" align=\"center\" style=\"height:300px; display:inline-block\" />\n",
    "</center>\n",
    "<br>\n",
    "\n",
    "*Note: You will not be using a multimeter in this section. If you can turn on and off the LED by turning the potentiometer, you have successfully implemented the circuit.*\n",
    "\n",
    "<span style='color:red;font-weight:bold'>To test your circuit, plug in your MSP to your computer to power it on. Twist the potentiometer to fade your LED.</span> To twist the potentiometer, take one of the alligator clips included in the kit, stick it into the potentiometer, and twist.\n",
    "\n",
    "\n",
    "After you are done testing your circuit, **unplug** your MSP from your computer.\n",
    "**Note: You should unplug your MSP from your computer in between exercises. You do not want to have your power source connected to your circuit while you make modifications to the circuit.**\n"
   ]
  },
  {
   "cell_type": "markdown",
   "metadata": {},
   "source": [
    "<a id='task2b'></a>\n",
    "## <span style=\"color:blue\">Task 2b: Changing LED Brightness</span>\n",
    "\n",
    "### Part 1: TinkerCAD Breadboard\n",
    "\n",
    "<span style='color:red; font-weight:bold'>Feel free to use the same project from Task 2a on TinkerCAD. \n",
    "Move things around to create the circuit below and follow along as we add components to the breadboard.</span>"
   ]
  },
  {
   "cell_type": "markdown",
   "metadata": {},
   "source": [
    "<center>\n",
    "    <span style='font-weight:bold;font-size:16px'>Step 1: Build the following circuit in TinkerCAD</span>\n",
    "    <br>\n",
    "    <img style=\"height: 500px;\" src=\"img/CLB1.jpg\"/>\n",
    "</center>"
   ]
  },
  {
   "cell_type": "markdown",
   "metadata": {},
   "source": [
    "<span style=\"color:red;font-weight:bold\">Set the power supply to $3.2V$ and $0.1A$. Click <span style='color:green'>Start simulation</span> and observe at the brightness and voltage across the LED. Note the voltage of the LED below.</span>"
   ]
  },
  {
   "cell_type": "markdown",
   "metadata": {},
   "source": [
    "`YOUR ANSWER HERE`"
   ]
  },
  {
   "cell_type": "markdown",
   "metadata": {},
   "source": [
    "**Click <span style='color:green;font-weight:bold'>Stop Simulation</span> before building for subsequent parts.**"
   ]
  },
  {
   "cell_type": "markdown",
   "metadata": {},
   "source": [
    "<center>\n",
    "    <span style='font-weight:bold;font-size:16px'>Step 2: Add another 1k$\\Omega$ resistor next to the one from step 1 (one leg in row 6 and the other in row 10)</span>\n",
    "    <br>\n",
    "    <img style=\"height: 500px;\" src=\"img/CLB2.jpg\"/>\n",
    "</center>"
   ]
  },
  {
   "cell_type": "markdown",
   "metadata": {},
   "source": [
    "**<span style=\"color:red\">Click <span style='color:green'>Start simulation</span> and observe at the brightness and voltage across the LED. Note the voltage of the LED below. How has it changed from the previous step?</span>**"
   ]
  },
  {
   "cell_type": "markdown",
   "metadata": {},
   "source": [
    "`YOUR ANSWER HERE`"
   ]
  },
  {
   "cell_type": "markdown",
   "metadata": {},
   "source": [
    "<center>\n",
    "    <span style='font-weight:bold;font-size:16px'>Step 3: Add two more resistors</span>\n",
    "    <br>\n",
    "    <img style=\"height: 500px;\" src=\"img/CLB4.jpg\"/>\n",
    "</center>"
   ]
  },
  {
   "cell_type": "markdown",
   "metadata": {},
   "source": [
    "**<span style=\"color:red\"> We saw in the LED Fader circuit that the LED brightness goes up when there is less resistance connected to it. What can we conclude about the 4 resistors lined up next to each other in this circuit? Is the overall resistance going up or down?</span>**"
   ]
  },
  {
   "cell_type": "markdown",
   "metadata": {},
   "source": [
    "`YOUR ANSWER HERE`"
   ]
  },
  {
   "cell_type": "markdown",
   "metadata": {},
   "source": [
    "*Developer's Note: Optional Section Hidden in Comments of this cell. Please ignore*\n",
    "<!---\n",
    "\n",
    "This section has been made optional\n",
    "\n",
    "### Part 2 : Physical Breadboarding\n",
    "\n",
    "**This part has been made optional due to time constraints. You do not need to do a physical breadboarding for this exercise**\n",
    "\n",
    "<font color=red><b>Reminder</b></font>: Reference the [Lab Equipment Guide](https://docs.google.com/document/d/e/2PACX-1vTVrGBDbRfVI0_LjSeTfw8doili8iS_E_9Fwdk2UShgf7WAgVVoHtyMOpjXadXwD45HNXUbb2ASF18H/pub) for information about your lab kit\n",
    "\n",
    "#### Materials & Equipment\n",
    "* 4x 1k$\\Omega$ resistors (Brown-Black-Red-Gold) - Kit\n",
    "* Male-to-Female jumpers - Kit\n",
    "* LED - Kit\n",
    "* Breadboard - Kit\n",
    "\n",
    "It's time to breadboard this on our physical breadboards. <span style='color:red;font-weight:bold'>Translate the above TinkerCAD breadboard onto your own breadboard. Ignore the multimeter connections.</span> For a small challenge, try to use fewer wires than the breadboard above.\n",
    "\n",
    "*Note: The longer (positive) leg of the LED is noted by the slightly bent leg in the TinkerCAD breadboard.*\n",
    "\n",
    "<center>\n",
    "<img src=\"img/Task2b.jpg\" align=\"center\" style=\"height:400px\" />\n",
    "    <br><br>\n",
    "Here is a bare bones, <span style='color:red;font-weight:bold'>unfinished</span> breadboard to get you started. <b>3V3</b> goes to <span style='color:red;font-weight:bold'>red (+)</span> and <b>GND</b> goes to <span style='color:blue;font-weight:bold'>blue (-)</span>. \n",
    "</center>\n",
    "\n",
    "\n",
    "\n",
    "*Note: You will not be using a multimeter in this section.*\n",
    "\n",
    "<span style='color:red;font-weight:bold'>To test your circuit, plug in your MSP to your computer to power it on. Observe the LED change brightness when you add or remove resistors.</span>\n",
    "\n",
    "After you are done testing your circuit, **unplug** your MSP from your computer.\n",
    "**Note: You should unplug your MSP from your computer in between exercises. You do not want to have your power source connected to your circuit while you make modifications to the circuit.**\n",
    "--->"
   ]
  },
  {
   "cell_type": "markdown",
   "metadata": {},
   "source": [
    "<a id='task2c'></a>\n",
    "## <span style=\"color:blue\">Task 2c: More Breadboarding Examples</span>\n",
    "\n",
    "<font color=red><b>Reminder</b></font>: Reference the [Lab Equipment Guide](https://docs.google.com/document/d/e/2PACX-1vTVrGBDbRfVI0_LjSeTfw8doili8iS_E_9Fwdk2UShgf7WAgVVoHtyMOpjXadXwD45HNXUbb2ASF18H/pub) for information about your lab kit\n",
    "\n",
    "#### Materials & Equipment\n",
    "* 100k $\\Omega$ resistor (brown-black-yellow-gold) - Kit \n",
    "* 1k $\\Omega$ resistor (brown-black-red-gold) - Kit\n",
    "- Launchpad MSP\n",
    "- 1x LED - Kit\n",
    "- Male-to-Male Jumper Wires - Kit"
   ]
  },
  {
   "cell_type": "markdown",
   "metadata": {},
   "source": [
    "### Exercise A\n",
    "\n",
    "<span style='color:red;font-weight:bold'>Build the following circuit in TinkerCAD. Feel free to use the same project as before.</span>\n"
   ]
  },
  {
   "cell_type": "markdown",
   "metadata": {},
   "source": [
    "<center>\n",
    "<img style=\"height: 400px;\" src=\"img/example1.png\"/> <figcaption>Exercise A Circuit Diagram</figcaption> <br> <br>\n",
    "<img style=\"height: 400px;\" src=\"img/task231.jpg\"/> <figcaption>Exercise A Breadboard Setup</figcaption>\n",
    "</center>"
   ]
  },
  {
   "cell_type": "markdown",
   "metadata": {},
   "source": [
    "Simulate the above circuit and make sure the LED turns on.\n",
    "\n",
    "<span style='color:red;font-weight:bold'>Now, translate the above TinkerCAD setup onto your own breadboard.</span> For a small challenge, try to use fewer wires than the breadboard above. Note the different resistors used in this step. Connect your MSP to your computer once you finish breadboarding.\n",
    "\n",
    "**You will know if you successfully breadboarded your circuit when your LED turns on.** Once your LED turns on, go ahead and unplug the MSP from your computer.\n",
    "\n",
    "*Note: The longer (positive) leg of the LED is depicted by the slightly bent leg in the TinkerCAD breadboard.*"
   ]
  },
  {
   "cell_type": "markdown",
   "metadata": {},
   "source": [
    "-----\n",
    "### Exercise B\n",
    "\n",
    "<span style='color:red;font-weight:bold'>Build the following circuit in TinkerCAD. Feel free to use the same project as before.</span>"
   ]
  },
  {
   "cell_type": "markdown",
   "metadata": {},
   "source": [
    "<center>\n",
    "<img style=\"height: 400px;\" src=\"img/example2.png\"/><figcaption>Exercise B Circuit Diagram</figcaption>\n",
    "<img style=\"height: 400px;\" src=\"img/task232.jpg\"/><figcaption>Exercise B Breadboard Setup</figcaption>\n",
    "</center> <br>"
   ]
  },
  {
   "cell_type": "markdown",
   "metadata": {},
   "source": [
    "<span style='color:red;font-weight:bold'>Translate the above TinkerCAD breadboard onto your own breadboard.</span> For a small challenge, try to use fewer wires than the breadboard above.\n",
    "\n",
    "**You will know if you successfully breadboarded your circuit when your LED turns on.**\n",
    "\n",
    "*Note: The longer (positive) leg of the LED is depicted by the slightly bent leg in the TinkerCAD breadboard.*"
   ]
  },
  {
   "cell_type": "markdown",
   "metadata": {},
   "source": [
    "*Developer's Note: Optional Section Hidden in Comments of this cell. Please ignore*\n",
    "<!---\n",
    "\n",
    "This section has been made optional\n",
    "\n",
    "<a id='task2d'></a>\n",
    "## <span style=\"color:blue\">Task 2d: Mystery Circuit - Challenging Breadboarding Exercise</span>\n",
    "\n",
    "Below is the circuit schematic with a mystery component - an Operational Amplifier (Op Amp). You do not need to know what it does for now, and will have plenty of exposure with it in the coming lectures. However, as you may have realized already, breadboarding is not much of a test of your circuits knowledge, but more of a brain puzzle, trying to translate circuit schematics onto a breadboard, so we will attempt this final challenge using this new mystery component. \n",
    "\n",
    "In the circuit schematic, the Op Amp is the triangle, and has 5 connections coming out of it. In TinkerCAD and in the physical world, the Op Amp looks like a black rectangle with 8 legs coming out of it. We will provide you with the **pin out diagram** of the Op Amp chip (LM741) where you can see what connections on the rectangular chip correspond to the Op Amp circuit component.\n",
    "\n",
    "Below, we have started the breadboard for you - it includes the Op Amp (with the white dot on the top left), the potentiometer, LED, and a few connections. Don't forget the wires on the bottom of the breadboard - they are connecting the two power rails and ground rails on each side of the breadboard. \n",
    "\n",
    "<span style=\"color:red;font-weight:bold\">Implement the rest of the circuit on TinkerCAD. You can find the LM741 Op Amp by searching \"741\" in the TinkerCAD \"search\" bar.</span> ***Do not make this on your breadboard.***\n",
    "\n",
    "<center>\n",
    "<img src=\"img/mystery_circuit.png\" style=\"height:500px\">\n",
    "</center>\n",
    "\n",
    "**This breadboarding exercise is challenging**. You will need to reference all three figures to get to the end circuit. Take it slowly, going over each component making sure they are going from one node to another. Some tips:\n",
    "\n",
    "1. Trace each node. TinkerCAD will highlight all the breadboard rows and component pins that are connected to the same node.\n",
    "1. Cross check the schematic and your breadboard to see if enough \"things\" are connected to each node. For example, the node above the LED should be connecting to two \"things\", namely the 330 Ohm resistor and the positive leg of the LED.\n",
    "1. Use wire colors to indicate wires that are the same node. This will help organize your thought process.\n",
    "\n",
    "**Don't spent too long on this**. If after 10 minutes none of your lab team can get it working, call us over for some help. Walking through it verbally will still help you learn breadboarding.\n",
    "\n",
    "---->"
   ]
  },
  {
   "cell_type": "markdown",
   "metadata": {},
   "source": [
    "<a id='task3'></a>\n",
    "# <span style=\"color:blue\">Task 3: Measurement Practice</span>\n",
    "\n",
    "*Note: You will do Task 3a and 3b in TinkerCAD only, and 3c and 3d both in TinkerCAD and on your physical breadboard.*"
   ]
  },
  {
   "cell_type": "markdown",
   "metadata": {},
   "source": [
    "<a id='task3a'></a>\n",
    "## <span style=\"color:blue\">Task 3a: Open Circuits</span> \n",
    "\n",
    "Examine the following circuit."
   ]
  },
  {
   "cell_type": "markdown",
   "metadata": {},
   "source": [
    "<center><img style=\"height: 300px;\" src=\"img/circuit1.png\"/>\n",
    "</center>"
   ]
  },
  {
   "cell_type": "markdown",
   "metadata": {},
   "source": [
    "The three nodes in this circuit are marked as `0`, `1`, and `2`. Node `0` represents ground, the reference node. The voltages at each of the other nodes are potential differences between them and ground. Note that in this circuit diagram there are three places marked as node 0, because the voltage difference between any two points of an ideal wire is zero.\n",
    "\n",
    "<span style='color:red;font-weight:bold'>Construct the circuit in TinkerCAD. Use the breadboard below as reference. The resistor pictured is $1k\\Omega$.</span>"
   ]
  },
  {
   "cell_type": "markdown",
   "metadata": {},
   "source": [
    "<center><img style=\"height: 500px;\" src=\"img/task31.jpg\"/></center>"
   ]
  },
  {
   "cell_type": "markdown",
   "metadata": {},
   "source": [
    "With the circuit on our TinkerCAD breadboard, let's start taking measurements. <span style='color:red;font-weight:bold'>Add a multimeter device to your project space</span>. We will be using it to take both voltage and current measurements. To measure the voltage across a circuit element, you can connect each lead of the multimeter to the two terminals of a circuit element and click <span style='color:green;font-weight:bold'>Start Simulation</span>. The voltmeter setting is **(V)**, and the ammeter setting is **(A)**.\n",
    "\n",
    "#### Step 1\n",
    "Connect the multimeter to measure the voltage along ground points."
   ]
  },
  {
   "cell_type": "markdown",
   "metadata": {},
   "source": [
    "<center>\n",
    "    <img style=\"height:350px;\" src=\"img/ex1ground.jpeg\"/>\n",
    "    <img style=\"height:350px;\" src=\"img/task311.jpg\"/>\n",
    "</center>\n"
   ]
  },
  {
   "cell_type": "markdown",
   "metadata": {},
   "source": [
    "Start the simulation. <span style='color:red;font-weight:bold'>What is the potential difference that shows up on the Voltmeter when probing these two points, and what does this say about different points on a breadboard that are the same node?</span>"
   ]
  },
  {
   "cell_type": "markdown",
   "metadata": {},
   "source": [
    "`YOUR ANSWER HERE`"
   ]
  },
  {
   "cell_type": "markdown",
   "metadata": {},
   "source": [
    "#### Step 2\n",
    "Use the voltmeter to measure $V_x$."
   ]
  },
  {
   "cell_type": "markdown",
   "metadata": {},
   "source": [
    "<center><img style=\"height:350px;\" src=\"img/ex1volt11.jpeg\"/><img style=\"height:350px;\" src=\"img/task312.jpg\"/>\n",
    "</center>"
   ]
  },
  {
   "cell_type": "markdown",
   "metadata": {},
   "source": [
    "Start the simulation. **<span style=\"color:red\">What is the value of $V_x$? Does this match what you expected? </span>**"
   ]
  },
  {
   "cell_type": "markdown",
   "metadata": {},
   "source": [
    "`YOUR ANSWER HERE`"
   ]
  },
  {
   "cell_type": "markdown",
   "metadata": {},
   "source": [
    "#### Step 3\n",
    "Connect the multimeter in the voltmeter setting to measure $V_y$.\n",
    "<center>\n",
    "<img style=\"height: 350px;\" src=\"img/ex1volt22.jpeg\"/>\n",
    "<img style=\"height: 350px;\" src=\"img/task313.jpg\"/>\n",
    "</center>\n",
    "\n",
    "**<span style=\"color:red\">What is the value of $V_y$? Why is this the case?</span>**\n"
   ]
  },
  {
   "cell_type": "markdown",
   "metadata": {},
   "source": [
    "`YOUR ANSWER HERE`"
   ]
  },
  {
   "cell_type": "markdown",
   "metadata": {},
   "source": [
    "#### Step 4\n",
    "Connect the multimeter in the voltmeter setting to measure $V_z$."
   ]
  },
  {
   "cell_type": "markdown",
   "metadata": {},
   "source": [
    "<center>\n",
    "<img style=\"height: 350px;\" src=\"img/ex1volt3.jpeg\"/> <br>\n",
    "<img style=\"height: 350px;\" src=\"img/task314.jpg\"/>\n",
    "</center>"
   ]
  },
  {
   "cell_type": "markdown",
   "metadata": {},
   "source": [
    "**<span style=\"color:red\">What is the value of $V_z$? How does it compare to $V_x$ and $V_s$?</span>**"
   ]
  },
  {
   "cell_type": "markdown",
   "metadata": {},
   "source": [
    "`YOUR ANSWER HERE`"
   ]
  },
  {
   "cell_type": "markdown",
   "metadata": {},
   "source": [
    "\n",
    "**<span style=\"color:red\">Verify that KVL holds in this circuit using the measurements of the voltages from Step 1, 2 and 3. Write out the equation twice below, once with variables ($V_x$, $V_y$, $V_z$) and once with the measured values.</span>**"
   ]
  },
  {
   "cell_type": "markdown",
   "metadata": {},
   "source": [
    "`YOUR ANSWER HERE`"
   ]
  },
  {
   "cell_type": "markdown",
   "metadata": {},
   "source": [
    "#### Step 5\n",
    "Change the multimeter to the ammeter mode. Now, you'll learn how to measure current."
   ]
  },
  {
   "cell_type": "markdown",
   "metadata": {},
   "source": [
    "<center><img style=\"height: 350px;\" src=\"img/ex1ee.jpeg\"/></center>"
   ]
  },
  {
   "cell_type": "markdown",
   "metadata": {},
   "source": [
    "To measure current, the ammeter is connected by 'breaking' the connection in the circuit path, so that you can include the ammeter in the path as another node. This way, the current passes through the ammeter wire for measurement. This is more tricky to visualize than the voltmeter, so here's a breadboard diagram to help you with this measurement. Note that node 2 is now at the end of where the multimeter is connected, same as the circuit diagram above."
   ]
  },
  {
   "cell_type": "markdown",
   "metadata": {},
   "source": [
    "<center>\n",
    "<img style=\"height: 400px;\" src=\"img/task315.jpg\"/>\n",
    "</center>"
   ]
  },
  {
   "cell_type": "markdown",
   "metadata": {},
   "source": [
    "**<span style=\"color:red\">What is the value of $I_y$? Considering your measurement in part b of $V_y$ and the proportional relationship between current and voltage for a resistor, does this value make sense?</span>**"
   ]
  },
  {
   "cell_type": "markdown",
   "metadata": {},
   "source": [
    "`YOUR ANSWER HERE`"
   ]
  },
  {
   "cell_type": "markdown",
   "metadata": {},
   "source": [
    "<a id='task3b'></a>\n",
    "## <span style=\"color:black\">Task 3b: Complete Circuit in TinkerCAD</span> \n",
    "\n",
    "You should need to only add one new wire for this step.\n",
    "\n",
    "Your circuit now has the following circuit diagram:"
   ]
  },
  {
   "cell_type": "markdown",
   "metadata": {},
   "source": [
    "<center><img style=\"height: 350px;\" src=\"img/ex2start.png\"/></center>"
   ]
  },
  {
   "cell_type": "markdown",
   "metadata": {},
   "source": [
    "#### Step 1\n",
    "Measure the voltages $V_y, V_z$ and current $I_y$ for this circuit, the same way as you did in part 1. \n",
    "\n",
    "Remember that you add a new node to connect the ammeter when measuring the current $I_y$.\n",
    "\n",
    "Here's a breadboard diagram with labeled nodes to help with the current measurement: "
   ]
  },
  {
   "cell_type": "markdown",
   "metadata": {},
   "source": [
    "<center><img style=\"height: 400px;\" src=\"img/task321.jpg\"/>\n",
    "</center>"
   ]
  },
  {
   "cell_type": "markdown",
   "metadata": {},
   "source": [
    "**<span style=\"color:red\">Based on these voltage measurements, what is the relationship between node 0 and node 2? Although we have three labeled nodes on the circuit diagram (0, 1, 2), how many distinct nodes are in this circuit now?</span>** "
   ]
  },
  {
   "cell_type": "markdown",
   "metadata": {},
   "source": [
    "`YOUR ANSWER HERE`"
   ]
  },
  {
   "cell_type": "markdown",
   "metadata": {},
   "source": [
    "Use the measured values for $V_y$ and $I_y$ for the resistor to verify Ohm's Law. **<span style=\"color:red\">What is the calculated resistance value?</span>**"
   ]
  },
  {
   "cell_type": "markdown",
   "metadata": {},
   "source": [
    "`YOUR ANSWER HERE`"
   ]
  },
  {
   "cell_type": "markdown",
   "metadata": {},
   "source": [
    "**<span style=\"color:red\">How do the calculated and measured resistance values compare?</span>**"
   ]
  },
  {
   "cell_type": "markdown",
   "metadata": {},
   "source": [
    "`YOUR ANSWER HERE`"
   ]
  },
  {
   "cell_type": "markdown",
   "metadata": {},
   "source": [
    "**<span style=\"color:red\">Finally, check KVL again with the new voltage values you measured in Step 2 of this task. Does KVL still hold?</span>**\n"
   ]
  },
  {
   "cell_type": "markdown",
   "metadata": {},
   "source": [
    "`YOUR ANSWER HERE`"
   ]
  },
  {
   "cell_type": "markdown",
   "metadata": {},
   "source": [
    "<a id='task3c'></a>\n",
    "## <span style=\"color:blue\">Task 3c: Voltage Divider </span> \n",
    "\n",
    "<font color=red><b>Reminder</b></font>: Reference the [Lab Equipment Guide](https://docs.google.com/document/d/e/2PACX-1vTVrGBDbRfVI0_LjSeTfw8doili8iS_E_9Fwdk2UShgf7WAgVVoHtyMOpjXadXwD45HNXUbb2ASF18H/pub) for information about your lab kit\n",
    "\n",
    "#### Materials & Equipment\n",
    "* 1x 2k $\\Omega$ resistor (red-black-red-gold) - Kit \n",
    "* 1x 1k $\\Omega$ resistor (brown-black-red-gold) - Kit\n",
    "- Launchpad MSP\n",
    "- Breadboard - Kit\n",
    "- Male-to-Male Jumper Wires - Kit\n",
    "* Male-to-Female Jumper Wires - Kit\n",
    "\n",
    "### Part 1: TinkerCAD Breadboarding Practice\n",
    "Now, construct the new circuit shown below in TinkerCAD. Use a 1k$\\Omega$ (brown-black-red-gold) resistor for $R1$ and a 2k$\\Omega$ (red-black-red-gold) resistor for $R2$.\n",
    "\n",
    "\n",
    "Measure the voltage at each node ($u_0, u_1, u_2$). To do this, connect the Ground wire (Black wire) from the multimeter to a point on the vertical Ground (-) column, and the Red wire to each node you want to measure. "
   ]
  },
  {
   "cell_type": "markdown",
   "metadata": {},
   "source": [
    "\n",
    "<center>\n",
    "<img style=\"height: 300px;\" src=\"img/ex3.png\"/>\n",
    "<figcaption>Part 1 Circuit Diagram</figcaption> <br> <br>\n",
    "<img style=\"height: 400px;\" src=\"img/nodal.jpg\"/>\n",
    "<figcaption>Part 1 Breadboard and Multimeter Setup</figcaption> <br> <br>\n",
    "</center>\n"
   ]
  },
  {
   "cell_type": "markdown",
   "metadata": {},
   "source": [
    "**<span style=\"color:red\">Using the voltmeter, what are the voltages $u_0$, $u_1$, and $u_2$?</span>**"
   ]
  },
  {
   "cell_type": "markdown",
   "metadata": {},
   "source": [
    "`YOUR ANSWER HERE`"
   ]
  },
  {
   "cell_type": "markdown",
   "metadata": {},
   "source": [
    "\n",
    "**<span style=\"color:red\">Based on those node voltage measurements, what are the values of the voltages $V_z$ and $V_y$?</span>**"
   ]
  },
  {
   "cell_type": "markdown",
   "metadata": {},
   "source": [
    "`YOUR ANSWER HERE`"
   ]
  },
  {
   "cell_type": "markdown",
   "metadata": {},
   "source": [
    "\n",
    "**<span style=\"color:red\">The [voltage divider formula](https://en.wikipedia.org/wiki/Voltage_divider) is an important formula that we use in this class. Can you show that the voltage divider formula holds for the voltage measurements for $V_z$ and $V_y$? </span>**\n",
    "Hint, set up two equations with $V_s$, one with $V_z$, and one with $V_y$.\n"
   ]
  },
  {
   "cell_type": "markdown",
   "metadata": {},
   "source": [
    "`YOUR ANSWER HERE`"
   ]
  },
  {
   "cell_type": "markdown",
   "metadata": {},
   "source": [
    "### Part 2: Physical Breadboarding Version\n",
    "\n",
    "<span style='color:red;font-weight:bold'>Build the circuit in your breadboard</span> and replace the Power Supply with your MSP as you did in Task 1 and Task 2. Use a 1k$\\Omega$ (brown-black-red-gold) resistor, a 2k$\\Omega$ (red-black-red-gold) resistor and wires."
   ]
  },
  {
   "cell_type": "markdown",
   "metadata": {},
   "source": [
    "<center>\n",
    "    <img style=\"height: 350px;\" src=\"img/task3c_phy.png\"/>\n",
    "    <img style=\"height: 350px;\" src=\"img/ex3.png\"/>\n",
    "</center>"
   ]
  },
  {
   "cell_type": "markdown",
   "metadata": {},
   "source": [
    "<span style='color:red;font-weight:bold'>We will be using the  MSP as a Voltmeter</span>. Please download the AnalogVoltage folder [here](https://drive.google.com/drive/folders/16sHI6tWrlRaHQYk7djoieqlS5eilqBGt?usp=sharing) and [upload](https://docs.google.com/document/d/e/2PACX-1vTVrGBDbRfVI0_LjSeTfw8doili8iS_E_9Fwdk2UShgf7WAgVVoHtyMOpjXadXwD45HNXUbb2ASF18H/pub#h.6wu473h55i4) the code to your MSP through Energia.\n",
    "\n",
    "1. Grab a female-to-male wire and connect the female end of the wire to the `P6.0` pin on the MSP. The male end of the wire will serve as your voltmeter probe.\n",
    "1. Open `AnalogVoltage` in the Energia application. \n",
    "1. Select the correct com port under Tools -> Port.\n",
    "1. [Upload](https://docs.google.com/document/d/e/2PACX-1vTVrGBDbRfVI0_LjSeTfw8doili8iS_E_9Fwdk2UShgf7WAgVVoHtyMOpjXadXwD45HNXUbb2ASF18H/pub#h.6wu473h55i4) the `AnalogVoltage` code to your MSP.\n",
    "1. Open the Serial Monitor under `Tools > Serial Monitor`. Make sure the baud rate is set to `115200`. In the dialog box, type `6` and hit `Enter` or click \"Send\" to request the MSP to read the voltage at `P6.0`. It will give you the voltage at that point to 3 decimal places.\n",
    "\n",
    "At this point, your circuit setup should resemble the following image."
   ]
  },
  {
   "cell_type": "markdown",
   "metadata": {},
   "source": [
    "<center>\n",
    "    <img style=\"height: 450px;\" src=\"img/MSPVol3.jpg\"/>\n",
    "</center>"
   ]
  },
  {
   "cell_type": "markdown",
   "metadata": {},
   "source": [
    " \n",
    "Now, you can probe each node in your circuit with the male end of the wire connected to the $6.0$ pin.    \n"
   ]
  },
  {
   "cell_type": "markdown",
   "metadata": {},
   "source": [
    "**<span style=\"color:red\">Using the voltmeter, what are the voltages $u_0$, $u_1$, and $u_2$?</span>**"
   ]
  },
  {
   "cell_type": "markdown",
   "metadata": {},
   "source": [
    "`YOUR ANSWER HERE`"
   ]
  },
  {
   "cell_type": "markdown",
   "metadata": {},
   "source": [
    "\n",
    "**<span style=\"color:red\">Do the measurements at each node agree with the simulation from TinkerCAD?</span>**"
   ]
  },
  {
   "cell_type": "markdown",
   "metadata": {},
   "source": [
    "`YOUR ANSWER HERE`"
   ]
  },
  {
   "cell_type": "markdown",
   "metadata": {},
   "source": [
    "<a id='task3d'></a>\n",
    "## <span style=\"color:black\">Task 3d: Series and Parallel Resistors </span> \n",
    "\n",
    "<font color=red><b>Reminder</b></font>: Reference the [Lab Equipment Guide](https://docs.google.com/document/d/e/2PACX-1vTVrGBDbRfVI0_LjSeTfw8doili8iS_E_9Fwdk2UShgf7WAgVVoHtyMOpjXadXwD45HNXUbb2ASF18H/pub) for information about your lab kit\n",
    "\n",
    "#### Materials & Equipment\n",
    "* 1x $2k\\Omega$ resistor (red-black-red-gold) - Kit \n",
    "* Breadboard from Task 3c\n",
    "\n",
    "### Part 1: TinkerCAD Breadboarding Practice\n",
    "\n",
    "<span style='color:red;font-weight:bold'>Add another 2k$\\Omega$ resistor in the same TinkerCAD breadboard from task 3c between node 2 and node 0. Measure the nodes using the voltmeter</span>"
   ]
  },
  {
   "cell_type": "markdown",
   "metadata": {},
   "source": [
    "<center>\n",
    "<img style=\"height: 350px;\" src=\"img/ex4.png\"/>\n",
    "<img style=\"height: 350px;\" src=\"img/task341.jpg\"/>\n",
    "</center>"
   ]
  },
  {
   "cell_type": "markdown",
   "metadata": {},
   "source": [
    "**<span style=\"color:red\">What are the voltages $u_0$, $u_1$, $u_2$ at nodes 0, 1, 2 respectively?</span>**"
   ]
  },
  {
   "cell_type": "markdown",
   "metadata": {},
   "source": [
    "`YOUR ANSWER HERE`"
   ]
  },
  {
   "cell_type": "markdown",
   "metadata": {},
   "source": [
    "\n",
    "**<span style=\"color:red\">Based on these measurements, what are the voltages $V_z$ and $V_y$?? Are they still the same as in Task 3c?</span>**\n"
   ]
  },
  {
   "cell_type": "markdown",
   "metadata": {},
   "source": [
    "`YOUR ANSWER HERE`"
   ]
  },
  {
   "cell_type": "markdown",
   "metadata": {},
   "source": [
    "**<span style=\"color:red\"> What is $V_\\ell$? How does $V_\\ell$ compare to $V_{z}$?</span>**"
   ]
  },
  {
   "cell_type": "markdown",
   "metadata": {},
   "source": [
    "`YOUR ANSWER HERE`"
   ]
  },
  {
   "cell_type": "markdown",
   "metadata": {},
   "source": [
    "### Part 2: Physical Breadboarding Practice\n",
    "\n",
    "We will be following what we have done in TinkerCAD on our physical breadboards. <span style='color:red;font-weight:bold'>Put another $2k\\Omega$ (red-black-red-gold) resistor between node 2 and node 0 on your breadboard to match your TinkerCAD breadboard. Use the MSP AnalogVoltage code from before (you do not need to reupload) with the $6.0$ probing pin to measure voltage values at nodes  $u_0$, $u_1$, and $u_2$.</span>"
   ]
  },
  {
   "cell_type": "markdown",
   "metadata": {},
   "source": [
    "<center>\n",
    "<img style=\"height: 350px;\" src=\"img/task3d_phy.png\"/></center>"
   ]
  },
  {
   "cell_type": "markdown",
   "metadata": {},
   "source": [
    "**<span style=\"color:red\"> Are all of your probed values consistent with the measurements you made on TinkerCAD? </span>**"
   ]
  },
  {
   "cell_type": "markdown",
   "metadata": {},
   "source": [
    "`YOUR ANSWER HERE`"
   ]
  },
  {
   "cell_type": "markdown",
   "metadata": {},
   "source": [
    "<a id='checkoff'></a>\n",
    "# <span style=\"color:blue\">Checkoff</span>\n",
    "When you are ready to get checked off,\n",
    "1. Fill out the checkoff google form. **[Checkoff Form](https://forms.gle/TLjsE68kEf8QpcWa9)**\n",
    "2. Submit a **checkoff** request on the lab queue. **[Checkoff queue](https://lab.eecs16a.org)** It is fine if only one person from your group submits the lab queue request, but everyone must submit their own google form. \n",
    "\n",
    "Your GSI or a Lab Assistant will join your breakout room when they are available and go through some checkoff questions with your group. They will go through the checkoff list in order. Please be patient!\n",
    "\n",
    "## <span style='color:red;font-weight:bold'>Do not take apart your setup!</span>"
   ]
  }
 ],
 "metadata": {
  "anaconda-cloud": {},
  "kernelspec": {
   "display_name": "Python 3",
   "language": "python",
   "name": "python3"
  },
  "language_info": {
   "codemirror_mode": {
    "name": "ipython",
    "version": 3
   },
   "file_extension": ".py",
   "mimetype": "text/x-python",
   "name": "python",
   "nbconvert_exporter": "python",
   "pygments_lexer": "ipython3",
   "version": "3.8.0"
  }
 },
 "nbformat": 4,
 "nbformat_minor": 4
}
