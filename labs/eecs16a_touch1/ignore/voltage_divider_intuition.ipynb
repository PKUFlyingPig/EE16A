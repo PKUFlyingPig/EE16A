{
 "cells": [
  {
   "cell_type": "markdown",
   "metadata": {},
   "source": [
    "## Task: Voltage and Current Measurements\n",
    "\n",
    "In this exercise, we will measure voltages and currents using a Multimeter. Previously, we have been using the Oscilloscope, which outputs a visual measurement of voltage in the form of a graph, as well as numbers. With the multimeter, we can measure many circuit properties, not only voltage. The measurements output from a multimeter are not graphical, only numbers.\n",
    "\n",
    "For this exercise, you may want to get a sheet of paper out in order to record measurements and do calculations easily.\n",
    "\n",
    "\n",
    "Things you'll need: \n",
    "\n",
    "5 pieces of wire: strip them\n",
    "## Include a section on how to strip a wire?\n",
    "### Put a built-in wire into the circuit diagram."
   ]
  },
  {
   "cell_type": "markdown",
   "metadata": {},
   "source": [
    "### Voltage Measurement\n",
    "\n",
    "To measure the voltage across a circuit element, you connect the multimeter across the circuit element, with the two probes (color coded in the image) connected to the nodes on the two sides of the circuit element. \n",
    "\n",
    "</div></div><img style=\"height: 200px;\" src=\"img\\voltmeter.png\"/></div>\n",
    "</center>\n",
    "\n",
    "### Current Measurement\n",
    "\n",
    "To measure the current through a branch, you connect the multimeter by 'breaking' the connection in the circuit path, and including the multimeter in the path as another node. This lets you measure the current flowing through the wire. \n",
    "\n",
    "</div></div><img style=\"height: 120px;\" src=\"img\\ammeter.png\"/></div>\n",
    "</center>"
   ]
  },
  {
   "cell_type": "code",
   "execution_count": null,
   "metadata": {},
   "outputs": [],
   "source": [
    "probe ground"
   ]
  },
  {
   "cell_type": "markdown",
   "metadata": {},
   "source": [
    "### **<span style=\"color:red\">TODO</span>**\n",
    "Use the 6v max ports on the power source to set the voltage source V_s to be 3V, and the current limit to 0.1A.\n",
    "\n",
    "#### Resistor Color Code Calculations\n",
    "**<span style=\"color:red\">Obtain two resistors from each of the two unmarked bins on the TA desk. </span>** Use the\n",
    "[Resistor Color Code Calculator](https://www.digikey.com/en/resources/conversion-calculators/conversion-calculator-resistor-color-code-4-band)** to calculate the resistance value of each resistor. Once you have done so, set the two larger resistance resistors and one smaller resistance resistor aside for now. \n",
    "#### Circuit Building Time\n",
    "<!--Then, obtain a 1k$\\Omega$ resistor and a 2k$\\Omega$ from the TA desk. Put the 2k$\\Omega$ resistor aside for now, and build the following circuit using the 1k$\\Omega$ resistor. */-->\n",
    "Build the following circuit using the remaining smaller resistance resistor.\n",
    "</div></div><img style=\"height: 300px;\" src=\"img\\circuit1.png\"/></div>\n",
    "</center>\n",
    "The three nodes in this circuit are marked as 0, 1, and 2. Node 0 represents ground, the reference node. The voltages at each of the other nodes are potential differences between this node 0 and the respective nodes 1 and 2. Note that in this circuit diagram that there are three places marked as node 0. All three locations are the same node, because the potential difference between any two points of an \"ideal\" wire is zero. (For this class, the wires we are using are close enough to ideal.)\n",
    "\n",
    "To help you with this step, you may follow the breadboard diagram below. The red and black wires in the top left corner should be connected to the power source. \n",
    "\n",
    "</div></div><img style=\"height: 500px;\" src=\"img\\exercise1.png\"/></div>\n",
    "</center>\n",
    "\n",
    "\n",
    "Now, let's see how to measure the three voltages $V_x, V_y$, and $V_z$, as well as the current $I_y$ shown in the circuit diagram. \n",
    "\n",
    "## For the rest of this lab, reading through this  [lab equipment guide](https://docs.google.com/document/d/e/2PACX-1vTVrGBDbRfVI0_LjSeTfw8doili8iS_E_9Fwdk2UShgf7WAgVVoHtyMOpjXadXwD45HNXUbb2ASF18H/pub) and keeping it open for reference will be very helpful.\n",
    "\n",
    "#### a.) Connect the multimeter in the voltmeter setting to measure $V_x$.\n",
    "\n",
    "</div></div><img style=\"height: 350px;\" src=\"img\\ex1volt11.png\"/></div>\n",
    "</center>\n",
    "\n",
    "\n",
    "**<span style=\"color:red\">What is the value of $V_x$? How does this value compare to the value of $V_s$?</span>**"
   ]
  },
  {
   "cell_type": "markdown",
   "metadata": {},
   "source": [
    "</center>\n",
    "**<span style=\"color:red\">YOUR ANSWER HERE</span>**"
   ]
  },
  {
   "cell_type": "code",
   "execution_count": null,
   "metadata": {},
   "outputs": [],
   "source": [
    "TODO: symbols better: Ccurrent label, squiggles, look like a cartoon. \n",
    "    \n",
    "TODO:try flipping leads, see voltage is negative, shows directionality."
   ]
  },
  {
   "cell_type": "markdown",
   "metadata": {},
   "source": [
    "#### b.) Connect the multimeter in the voltmeter setting to measure $V_y$\n",
    "</div></div><img style=\"height: 350px;\" src=\"img\\ex1volt22.png\"/></div>\n",
    "</center>\n",
    "\n",
    "**<span style=\"color:red\">What is the value of $V_y$? How come?</span>**"
   ]
  },
  {
   "cell_type": "markdown",
   "metadata": {},
   "source": [
    "</center>\n",
    "**<span style=\"color:red\">YOUR ANSWER HERE</span>**"
   ]
  },
  {
   "cell_type": "markdown",
   "metadata": {},
   "source": [
    "#### c.) Connect the multimeter in the voltmeter setting to measure $V_z$\n",
    "</div></div><img style=\"height: 350px;\" src=\"img\\ex1volt3.png\"/></div>\n",
    "</center>\n",
    "\n",
    "**<span style=\"color:red\">What is the value of $V_z$? How does it compare to $V_x$ and $V_s$?</span>**"
   ]
  },
  {
   "cell_type": "markdown",
   "metadata": {},
   "source": [
    "</center>\n",
    "**<span style=\"color:red\">YOUR ANSWER HERE</span>**"
   ]
  },
  {
   "cell_type": "markdown",
   "metadata": {},
   "source": [
    "#### d.) Verify that KVL holds in this circuit using the measurements of the voltages from parts a, b, and c. Write out the equation with variables and again with values below."
   ]
  },
  {
   "cell_type": "markdown",
   "metadata": {},
   "source": [
    "</center>\n",
    "**<span style=\"color:red\">YOUR ANSWER HERE</span>**"
   ]
  },
  {
   "cell_type": "markdown",
   "metadata": {},
   "source": [
    "#### e.) Now, connect the multimeter in the ammeter setting through the resistor as shown below. You might want to refer to the [lab equipment guide](https://docs.google.com/document/d/e/2PACX-1vTVrGBDbRfVI0_LjSeTfw8doili8iS_E_9Fwdk2UShgf7WAgVVoHtyMOpjXadXwD45HNXUbb2ASF18H/pub) to determine which ports and buttons to use (The 1.2A port should be used.)\n",
    "\n",
    "</div></div><img style=\"height: 300px;\" src=\"img\\ex1ee.png\"/></div>\n",
    "</center>\n",
    "\n",
    "**<span style=\"color:red\">What is the value of $I_y$? Considering your measurement in part b of $V_y$ and the proportional relationship between current and voltage for a resistor, does this value make sense?</span>**\n",
    "\n"
   ]
  },
  {
   "cell_type": "markdown",
   "metadata": {},
   "source": [
    "</center>\n",
    "**<span style=\"color:red\">YOUR ANSWER HERE</span>**"
   ]
  },
  {
   "cell_type": "markdown",
   "metadata": {},
   "source": [
    "### **<span style=\"color:red\">TODO</span>** Now, connect node 2 to the ground node, node 0. \n",
    "You should need to only add one new wire for this step.\n",
    "\n",
    "# This step will probably need breadboard diagrams, yes or no?\n",
    "\n",
    "\n",
    "</div></div><img style=\"height: 300px;\" src=\"img\\ex2start.png\"/></div>\n",
    "</center>\n",
    "#### a.) Measure the three voltages $V_x, V_y, V_z$ and current $I_y$ for this circuit, the same way as you did in part 1. Remember that you add a new node to connect the ammeter when measuring the current $I_y$.\n",
    "**<span style=\"color:red\">Which voltage measurements changed? Why is this?</span>**"
   ]
  },
  {
   "cell_type": "markdown",
   "metadata": {},
   "source": [
    "</center>\n",
    "**<span style=\"color:red\">YOUR ANSWER HERE</span>**"
   ]
  },
  {
   "cell_type": "markdown",
   "metadata": {},
   "source": [
    "#### b.) Use the measured values for $V_y$ and $I_y$ for the resistor to verify Ohm's Law. What is the calculated resistance value? Now, use the multimeter on the resistance measurement setting to measure the resistance of the resistor. Make sure to scale the output with the up and down arrows if the output is 0.\n",
    "\n",
    "**<span style=\"color:red\">What is the calculated resistance value? What is the multimeter resistance measurement value? Do these values agree more or less with the value of the resistor based on its color bands?</span>**\n",
    "\n",
    "\n"
   ]
  },
  {
   "cell_type": "markdown",
   "metadata": {},
   "source": [
    "</center>\n",
    "**<span style=\"color:red\">YOUR ANSWER HERE</span>**"
   ]
  },
  {
   "cell_type": "markdown",
   "metadata": {},
   "source": [
    "#### c.) Finally, check KVL again with the changed voltage values you measured in part a. Does KVL still hold?"
   ]
  },
  {
   "cell_type": "markdown",
   "metadata": {},
   "source": [
    "</center>\n",
    "**<span style=\"color:red\">YOUR ANSWER HERE</span>**"
   ]
  },
  {
   "cell_type": "markdown",
   "metadata": {},
   "source": [
    "### **<span style=\"color:red\">TODO</span>** Voltage Divider\n",
    "Now, connect the 2k$\\Omega$ resistor you had set aside previously between node 2 and node 0, replacing the wire that you put there in the previous step.\n",
    "\n",
    "</div></div><img style=\"height: 300px;\" src=\"img\\ex3.png\"/></div>\n",
    "</center>\n",
    "\n",
    "#### a.) Measure the voltages $V_y, V_z$ and the currents $I_y, I_z$ using the correct settings on the multimeter.\n",
    "\n",
    "**<span style=\"color:red\">Using these measured values, verify Ohm's law for each of the resistors. </span>**\n",
    "\n",
    "#### b.) The [voltage divider formula](https://en.wikipedia.org/wiki/Voltage_divider) is an important formula that we will be using in this class. Can you show that the voltage divider formula holds for the voltages across each of the resistors? \n",
    "Hint, set up the equations using $V_s$ in both, and $V_z, V_y$ respectively.\n",
    "\n",
    "#### c.) If you add up the two voltage divider equations from part b, what do you get? Can you verify this answer with KVL? "
   ]
  },
  {
   "cell_type": "markdown",
   "metadata": {},
   "source": [
    "</center>\n",
    "**<span style=\"color:red\">YOUR ANSWER HERE</span>**"
   ]
  },
  {
   "cell_type": "markdown",
   "metadata": {},
   "source": [
    "#### d.) Based on KCL, what can you say about the currents $I_y, I_z$ at node 2? Does this agree with the measurements you made in part a? Based on this, can you conclude anything about the current through resistors in series (connected one after another with no components branching off between them)? "
   ]
  },
  {
   "cell_type": "markdown",
   "metadata": {},
   "source": [
    "</center>\n",
    "**<span style=\"color:red\">YOUR ANSWER HERE</span>**"
   ]
  },
  {
   "cell_type": "markdown",
   "metadata": {},
   "source": [
    "### **<span style=\"color:red\">TODO</span>** Series and Parallel Resistors\n",
    "Now, connect the other 2k$\\Omega$ resistor you had set aside previously between node 2 and node 0, in addition to the one that you had placed there in the previous step.\n",
    "## Make this optional?\n",
    "\n",
    "</div></div><img style=\"height: 300px;\" src=\"img\\ex4.png\"/></div>\n",
    "</center>\n",
    "\n",
    "#### a.) Are the voltages $V_y$ and $V_z$ and the currents $I_y$ and $I_z$ the same as in the previous exercise?\n",
    "\n",
    "**<span style=\"color:red\">Does the voltage divider formula hold to calculate $V_z$ now? </span>**\n",
    "\n",
    "#### b.) Measure $V_\\ell$. How are the resistors $R_2$ and $R_\\ell$ connected? \n",
    "**<span style=\"color:red\">What can you conclude about the voltages across resistors connected in this manner? </span>**\n",
    "\n",
    "#### c.) Calculate the equivalent resistance of these two resistors \n",
    "</div></div><img style=\"height: 100px;\" src=\"img\\req.png\"/></div>\n",
    "</center>\n",
    "Get a resistor with this calculated value from the TA desk, and replace everything connected between node 2 and node 0 with it. Does the voltage divider formula work now? \n",
    "<br>\n",
    "**<span style=\"color:red\">When can you use the voltage divider formula? </span>**"
   ]
  },
  {
   "cell_type": "markdown",
   "metadata": {},
   "source": [
    "</center>\n",
    "**<span style=\"color:red\">YOUR ANSWER HERE</span>**"
   ]
  }
 ],
 "metadata": {
  "anaconda-cloud": {},
  "kernelspec": {
   "display_name": "Python 3",
   "language": "python",
   "name": "python3"
  },
  "language_info": {
   "codemirror_mode": {
    "name": "ipython",
    "version": 3
   },
   "file_extension": ".py",
   "mimetype": "text/x-python",
   "name": "python",
   "nbconvert_exporter": "python",
   "pygments_lexer": "ipython3",
   "version": "3.6.5"
  }
 },
 "nbformat": 4,
 "nbformat_minor": 1
}
