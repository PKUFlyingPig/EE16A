{
 "cells": [
  {
   "cell_type": "markdown",
   "metadata": {},
   "source": [
    "# Imaging Lab 1: Building a Light Sensor and Breadboarding Introduction\n",
    "\n",
    "### EECS 16A: Designing Information Devices and Systems I, Summer 2020\n",
    "\n",
    "<!--- Linda Du     (ljdu@berkeley.edu)\n",
    "      Leyla Kabuli (lakabuli@berkeley.edu) \n",
    "      Seiya Ono    (scono12@berkeley.edu)\n",
    "---->"
   ]
  },
  {
   "cell_type": "markdown",
   "metadata": {},
   "source": [
    "\n",
    "## Table of Contents\n",
    "\n",
    "* [Instructions](#instructions)\n",
    "* [Lab Policies](#policies)\n",
    "* [Assistance](#questions)\n",
    "* [Lab Kit](#kit)\n",
    "* [Energia Installation](#energia)\n",
    "* [Equipment Overview](#equip)\n",
    "* [Introduction](#intro)\n",
    "  * [System Overview](#overview)\n",
    "  * [Circuit Symbols and Concepts](#review)\n",
    "  * [PSU and Voltage Sources](#psu) \n",
    "* [Power Supply Setup](#task0)\n",
    "* [Task 1: Breadboarding](#task1)\n",
    "  * [Task 1a: Breadboarding Intuition](#task1a)\n",
    "  * [Task 1b: Breadboard Debugging](#task1b)\n",
    "* [Task 2: Setting Up the Ambient Light Sensor](#task2)\n",
    "* [Task 3: Virtual Oscilloscope](#task3)\n",
    "* [Checkoff](#checkoff)\n",
    "* [Additional Resources](#extra)"
   ]
  },
  {
   "cell_type": "markdown",
   "metadata": {},
   "source": [
    "<a id='instructions'></a>\n",
    "## Instructions\n",
    "* Complete this lab by filling in all of the required sections, marked with `\"YOUR CODE HERE\"` or `\"YOUR COMMENTS HERE\"`.\n",
    "\n",
    "\n",
    "* When you finish, submit a checkoff request to get checked off for this lab. Be ready to answer a few questions to show your understanding of each section.\n",
    "\n",
    "\n",
    "* Labs will be graded based on completion for teams of 2-4 students."
   ]
  },
  {
   "cell_type": "markdown",
   "metadata": {},
   "source": [
    "<a id='policies'></a>\n",
    "## Lab Policies\n",
    "* **YOU MUST ATTEND THE LAB SECTION YOU ARE ENROLLED IN. If you anticipate missing a section, please notify your GSI in advance.**\n",
    "* **You are free to stay for the full allotted time and hack around with the lab setup or code, but please keep the GSI's time in mind and do not work on unrelated assignments.**\n",
    "* **Keep food and drinks (except water) away from your devices and equipment.**"
   ]
  },
  {
   "cell_type": "markdown",
   "metadata": {},
   "source": [
    "<a id='questions'></a>\n",
    "\n",
    "## Assistance\n",
    "Whenever you have a question, please use the **[Question queue](https://lab.eecs16a.org)**. You will be prompted to log in with your Berkeley email, after which you will be able to submit a question request. Please select the assignment and specify your breakout room number in your request. A member of lab staff will join your breakout room to help."
   ]
  },
  {
   "cell_type": "markdown",
   "metadata": {},
   "source": [
    "<a id='kit'></a>\n",
    "## Lab Kit\n",
    "By now, you should have received a lab kit in the mail.\n",
    "Your lab kit consists of 2 packages:\n",
    "1. TI Launchpad MSP430 + cable\n",
    "2. Clear bag with smaller electrical components\n",
    "\n",
    "<span style=\"color:red\">**Read the [Lab Kit Components](https://docs.google.com/document/d/e/2PACX-1vTVrGBDbRfVI0_LjSeTfw8doili8iS_E_9Fwdk2UShgf7WAgVVoHtyMOpjXadXwD45HNXUbb2ASF18H/pub#h.mdtvxzygxlgp) section** of the EECS16A Lab Equipment Guide and make sure **you can name each of the individual lab kit components** you have received.</span>\n",
    "\n",
    "It is your responsibility to have **both parts of the kit ready for each lab session.** Everything in the kit, including the TI Launchpad MSP430, is yours to keep.\n",
    "\n",
    "Since we are remote, if you lose anything or something breaks, we won't be able to supply you with replacement parts. We have made sure that there are duplicates of some of the most used components for backup, but please treat your kit with care."
   ]
  },
  {
   "cell_type": "markdown",
   "metadata": {},
   "source": [
    "**<span style=\"color:red\">Answer the following questions about the components in the clear bag in your lab kit.</span>**<br/>\n",
    "1. How many jumper wires are in your kit, and what kinds are they? "
   ]
  },
  {
   "cell_type": "markdown",
   "metadata": {},
   "source": [
    "`YOUR ANSWER HERE`"
   ]
  },
  {
   "cell_type": "markdown",
   "metadata": {},
   "source": [
    "2. What is the component that is clear/white with a flat top called? Which leg of it is the positive leg? "
   ]
  },
  {
   "cell_type": "markdown",
   "metadata": {},
   "source": [
    "`YOUR ANSWER HERE`"
   ]
  },
  {
   "cell_type": "markdown",
   "metadata": {},
   "source": [
    "<a id='energia'></a>\n",
    "## Energia Installation\n",
    "\n",
    "The MSP430 Launchpad is a popular [microcontroller](http://en.wikipedia.org/wiki/Microcontroller) -- a small computer on a single chip. Microcontrollers are found at the heart of all embedded devices and have enough processing power to perform simple tasks using very little power. Because of its limited processing capabilities, the Launchpad does not run an operating system like desktop computers or servers. Instead, the device executes a single function continuously in a loop when it is powered on. For this module, our program needs to read a voltage value and send it to a computer via the USB connection, and the Launchpad needs to be used as a voltage source for circuits we build.\n",
    "\n",
    "Note: The Launchpad is produced by Texas Instruments and comes in many flavors. The model we will be using throughout the semester is the MSP430F5529. This is the model number you will want to reference whenever prompted.\n",
    "\n",
    "In order to use the TI Launchpad MSP430, we will need to download an application to your computer. Since we are doing remote labs and do not have access to many devices normally available in the lab rooms, this Launchpad and corresponding software are very important, as the Launchpad will be used as a power supply/battery, measurement tool, and will interface between your circuit and some code.\n",
    "\n",
    "#### Materials & Equipment\n",
    "* **From the Lab Kit**\n",
    "<br/><br/>\n",
    "<center>\n",
    "<table>\n",
    "<tr>\n",
    "<td width=\"180px\" style=\"border: 1px solid #000000;\"><center>1x TI Launchpad MSP430F5529LP</center></td>\n",
    "<td width=\"180px\" style=\"border: 1px solid #000000;\"><center>1x Micro-USB to USB-A Cable (Inside the Launchpad Box)</center></td>\n",
    "</tr>\n",
    "<tr>\n",
    "<td style=\"border: 1px solid #000000;\"><img src=\"images/msp.png\" style=\"width: 180px;\"/></td>\n",
    "<td style=\"border: 1px solid #000000;\"><img src=\"images/usb.png\" style=\"width: 180px;\"/></td>\n",
    "</table>\n",
    "</center>\n",
    "<br>\n",
    "\n",
    "**<span style=\"color:red\">\n",
    "Please read everything in and follow along in the [MSP sections of the equipment guide](https://docs.google.com/document/d/e/2PACX-1vTVrGBDbRfVI0_LjSeTfw8doili8iS_E_9Fwdk2UShgf7WAgVVoHtyMOpjXadXwD45HNXUbb2ASF18H/pub#h.ngmg73bi0zzk) to download Energia for your operating system and set up the Launchpad to computer connection. Come back to this notebook once the software is installed.</span>**\n",
    "\n",
    "\n",
    "As a summary of the steps linked above, at this point, you should have:\n",
    "1. Energia installed\n",
    "2. All necessary drivers and board updates completed\n",
    "3. Launchpad connected to your computer via USB\n",
    "4. **\"Tools > Board > MSP-EXP430F5529LP\"** selected\n",
    "5. Com port options available. \n",
    "\n",
    "**<span style=\"color:red\"> Now, let's make sure your Launchpad is properly interfacing with your computer. </span>** Since we are using online notebooks, you will have to download Energia code locally to your computer in order to run things. \n",
    "1. From this link, please download the folder \"[TestLaunchpadConnection](https://drive.google.com/drive/folders/1O_5PQzmdUxcT79IRGfLmrJhw-aUEFNtr?usp=sharing)\".\n",
    "2. [Upload the code](https://docs.google.com/document/d/e/2PACX-1vTVrGBDbRfVI0_LjSeTfw8doili8iS_E_9Fwdk2UShgf7WAgVVoHtyMOpjXadXwD45HNXUbb2ASF18H/pub#h.6wu473h55i4). Make sure you select the correct com port in this step, and click the **\"Upload\"** button (white circle with a right-pointing arrow)\n",
    "3. Reset your MSP with the \"RST\" button (see labeled picture below). \n",
    "4. Use [these directions](https://docs.google.com/document/d/e/2PACX-1vTVrGBDbRfVI0_LjSeTfw8doili8iS_E_9Fwdk2UShgf7WAgVVoHtyMOpjXadXwD45HNXUbb2ASF18H/pub#h.vq34xeg8hdke) to open up your serial monitor.\n",
    "5. Select the correct Baud Rate in the bottom right corner (115200), type in 6, and press enter. \n",
    "If you did not get a successful installation confirmation message at this point, please double check the steps from above, and submit a question request to the question queue if needed to get some TA help!\n",
    "\n",
    "Once your Energia install is successful, you may move on to the next part.\n",
    "\n",
    "<td><center><img src=\"images/launchpad_pins.png\" align=\"center\" style=\"height:300px\" /><figcaption>Launchpad Front with Pins Labeled</figcaption></center></td>"
   ]
  },
  {
   "cell_type": "markdown",
   "metadata": {},
   "source": [
    "<a id='equip'></a>\n",
    "## Equipment Overview\n",
    "\n",
    "The [EECS16A Lab Equipment Guide](https://docs.google.com/document/d/e/2PACX-1vTVrGBDbRfVI0_LjSeTfw8doili8iS_E_9Fwdk2UShgf7WAgVVoHtyMOpjXadXwD45HNXUbb2ASF18H/pub#h.xzcoxtym09nb) is a comprehensive guide of all the equipment used in labs. You may refer to it whenever you have any questions regarding lab equipment usage in future labs.\n",
    "\n"
   ]
  },
  {
   "cell_type": "markdown",
   "metadata": {},
   "source": [
    "<a id='intro'></a>\n",
    "## Imaging Introduction\n",
    "Welcome to the first lab of the imaging module! The goal of this module is to simulate the imaging system introduced in class. In former in-person versions of this lab, the imaging system included a pico projector, ambient light sensor, some passive electronics, and a [TI MSP430 Launchpad](http://www.ti.com/ww/en/launchpad/launchpad.html?DCMP=rtos&HQS=ep-sdo-rtos-pr-lp-launchpad-en) microcontroller. The completed setup of this in-person imaging system is shown below. \n",
    "<br><br>\n",
    "<center>\n",
    "<img src=\"images/old_setup.jpg\" style=\"width:550px\" />\n",
    "</center>\n",
    "\n",
    "Since we are doing these labs remotely, we will not be building this setup, but we will still be implementing each step of the system, and the image above is a visualization of this system.\n",
    "\n",
    "<a id='overview'></a>\n",
    "### System Overview\n",
    "The following figure shows a high-level block model of our imaging system. Here is the system flow: 1) The ambient light sensor converts light energy into electrical current; more ambient light leads to more current. 2) The current produced by the ambient light sensor then travels through passive electrical components. This translates the current into a detectable signal (a voltage signal). 3) The TI Launchpad reads this signal, digitizes it, and sends it to the PC. 4) The digitized signal gets converted into an image by some linear algebra code written in your iPython (Jupyter) notebook. Further improvements are made via software to increase the quality of the image.\n",
    "<center>\n",
    "<img src=\"images/system_diagram.svg\" style=\"height:256px\" />\n",
    "</center>\n",
    "\n",
    "Digital images are composed of a grid of [pixels](http://en.wikipedia.org/wiki/Pixel), each of which represents a single color. To create a digital representation, optical imaging systems measure the energy, equivalent to light in this case, reflected off of objects to determine the values of these pixels. Because different colors reflect different amounts of light, measurements of reflected light intensity can be used to differentiate between colors.\n",
    "<br/><br/>\n",
    "\n",
    "<center>\n",
    "<img src=\"images/overview.svg\" style=\"height:256px\"/>\n",
    "</center>\n",
    "\n",
    "Commercial cameras, such as those found in smartphones, use chips called CMOS image sensors to measure millions of pixel values at a time (think of this as millions of devices akin to the ambient light sensor that all fit on an approximately 30mm$^2$ chip). In contrast, our system can only measure one light intensity value at a time, so we will instead use a controlled energy source, the projector, to illuminate specific regions of the image. We then use the ambient light sensor to record the energy that reflects off of those regions.\n",
    "\n",
    "The ambient light sensor converts light to induce a flow of electrons. The circuit then outputs a voltage that changes in real time, depending on the light intensity. The voltage can be thought of as a real \"analog\" value, serving as a starting point for being able to represent our image on a computer. We use a microcontroller (Launchpad) to take samples of the voltage signal and convert them to a set of digital numbers that we can then use in our Jupyter (iPython) notebook.\n",
    "\n",
    "<a id='review'></a>\n",
    "### Circuit Symbols and Concepts\n",
    "The figure below shows the circuit symbols relevant to this lab and a picture of the real components they represent. Please do not worry if you do not know what these things are. **At this point in the course, you are NOT expected to know what these components are or what they are supposed to do.** You will eventually master these components during the circuits part of 16A. But if you're curious and need to know now, Wikipedia is your friend.\n",
    "<br>\n",
    "<center>\n",
    "<img src=\"images/circuit-symbols.svg\" align=\"center\" style=\"height:256px\"/>\n",
    "</center>\n",
    "<br/> "
   ]
  },
  {
   "cell_type": "markdown",
   "metadata": {},
   "source": [
    "<a id='psu'></a>\n",
    "### Power Supply Unit and Voltage Sources\n",
    "\n",
    "For each circuit that we build, we need a voltage source to provide energy for the circuit to operate, similar to a battery. Traditionally, we would use a Power Supply Unit, or [PSU](https://docs.google.com/document/d/e/2PACX-1vTVrGBDbRfVI0_LjSeTfw8doili8iS_E_9Fwdk2UShgf7WAgVVoHtyMOpjXadXwD45HNXUbb2ASF18H/pub#h.umhetktvdzwu), but instead, we will use the Launchpad as our voltage source. \n",
    "\n",
    "A voltage is defined as a difference in electric potential between two points. For example, the voltage source we will be using in this lab has a potential difference of $+3.3V$ between its positive and negative terminals. Because a voltage must be defined across two points, it is often convenient to define a common point in a circuit as a reference. This reference voltage, commonly referred to as \"ground\" (GND), is defined by convention to be $0V$, and therefore allows us to conveniently describe voltages at any point in the circuit with respect to $0V$. \n",
    "\n",
    "If you look at the pins on the front left of your launchpad, you will see ones marked as 3V3, 5V, and GND. These pins can act as a voltage source as long as your launchpad is connected to your computer! For the rest of the lab, whenever we have a voltage source of $+3.3V$, we will need to connect wires to the $3V3$ and GND pins on the launchpad.\n",
    "\n",
    "Every power supply unit also needs a current limit. The current limit for the Launchpad is automatically set to 0.1 A. "
   ]
  },
  {
   "cell_type": "markdown",
   "metadata": {},
   "source": [
    "<a id='task0'></a>\n",
    "## Power Supply Setup\n",
    "* **From the Lab Kit**\n",
    "<br/><br/>\n",
    "<center>\n",
    "<table>\n",
    "<tr>\n",
    "<td width=\"180px\" style=\"border: 1px solid #000000;\"><center>1x TI Launchpad MSP430F5529LP</center></td>\n",
    "<td width=\"180px\" style=\"border: 1px solid #000000;\"><center>1x Micro-USB to USB-A Cable (Inside the Launchpad Box)</center></td>\n",
    "<td width=\"180px\" style=\"border: 1px solid #000000;\"><center>2x Female-to-Male Jumper Wires; Exposed Metal on One Side </center></td>\n",
    "</tr>\n",
    "<tr>\n",
    "<td style=\"border: 1px solid #000000;\"><img src=\"images/msp.png\" style=\"width: 180px;\"/></td>\n",
    "<td style=\"border: 1px solid #000000;\"><img src=\"images/usb.png\" style=\"width: 180px;\"/></td>\n",
    "<td style=\"border: 1px solid #000000;\"><img src=\"images/mf-jumper.png\" style=\"width: 180px;\"/></td>\n",
    "</table>\n",
    "</center>\n",
    "<br>\n",
    "\n",
    "At this point, your Launchpad should be connected to your computer, with the little green light on. \n",
    "\n",
    "Now, we will set up our power supply for the rest of the lab. Whenever we refer to the \"PSU\" in the rest of the lab, we are talking about the 3V3 and GND pins on the launchpad.\n",
    "\n",
    "1. Take a female-to-male wire (preferably a <span style=\"color:red\">red</span>/orange/purple color), and connect the female end of it to the \"3V3\" pin on the front left of the launchpad (<span style=\"color:green\">**green dot**</span> in picture below).\n",
    "2. Take a new female-to-male wire (preferably a black/brown/grey color) and connect the female end of it to the \"GND\" pin on the front left of the launchpad (<span style=\"color:blue\">**blue dot**</span> on picture below).\n",
    "You may notice that there are two \"GND\" pins on the front of the launchpad. They are identical and output the same value, but to keep your wires organized, it's often easier to use the left one. If you wish to use the right side \"GND\" pin, that's up to you.\n",
    "\n",
    "The color convention used when building circuits has the ground (GND) connected with a black wire, and the positive supply value (3V3) connected with a red wire. \n",
    "\n",
    "<span style=\"color:red\"> **Very important:** NEVER let the male ends of the GND and 3V3 pins touch. This will cause significant damage to your Launchpad and break it. Remember that there are no replacement parts for remote labs, and you will be needing a working Launchpad for the rest of the semester!</span>\n",
    "<td><center><img src=\"images/launchpad_pins.png\" align=\"center\" style=\"height:300px\" /><figcaption>Launchpad Front with Pins Labeled</figcaption></center></td>"
   ]
  },
  {
   "cell_type": "markdown",
   "metadata": {},
   "source": [
    "### Resistor Information\n",
    "\n",
    "In your lab kit, there are many resistors with different color bands. You will learn more about resistors later in the class. The color bands represent the resistance value of the resistor. In order to calculate the numerical value of a resistor from its colors, you may use the [Resistor 4-Band Color Code Calculator](https://www.digikey.com/en/resources/conversion-calculators/conversion-calculator-resistor-color-code-4-band)\n",
    "\n",
    "For example, find the resistor in your kit that has the color bands:\n",
    "Brown, Black, Red, Gold. \n",
    "According to the color code calculator, what is the resistance value of this resistor?"
   ]
  },
  {
   "cell_type": "markdown",
   "metadata": {},
   "source": [
    "`YOUR ANSWER HERE`"
   ]
  },
  {
   "cell_type": "markdown",
   "metadata": {},
   "source": [
    "Keep this resistor out, as you will be using it in task 1."
   ]
  },
  {
   "cell_type": "markdown",
   "metadata": {},
   "source": [
    "<a id='task1'></a>\n",
    "## <span style=\"color:blue\">Task 1: Breadboarding Basics</span>\n",
    "\n",
    "Breadboards (the rectangular block in your lab kit) are useful tools that can be used to quickly and easily prototype circuits. The purpose of the breadboarding basics part of this lab is to familiarize you with converting circuit diagrams into breadboard layouts. The skills you pick up in this task will help the following labs go much faster.\n",
    "</br>\n",
    "</br>\n",
    "<center>\n",
    "<img style=\"height: 300px;\" src=\"images/bb_intro_1.png\"/>\n",
    "</center>"
   ]
  },
  {
   "cell_type": "markdown",
   "metadata": {},
   "source": [
    "<a id='task1a'></a>\n",
    "## <span style=\"color:blue\">Task 1a: Breadboarding Intuition</span>\n",
    "\n",
    "## Circuits Background\n",
    "**Circuit with Resistor and LED in Series**\n",
    "\n",
    "<center>\n",
    "<img style=\"height: 300px;\" src=\"images/diag.png\"/>\n",
    "</center>\n",
    "\n",
    "\n",
    "The circuit we will be working with has the following components:\n",
    "0. **LED** - lights up when a high enough current flows through it in the correct direction. **Current should flow into the long leg (+) and out of the short leg (-)**\n",
    "0. **Resistor** - resists the flow of current through it and has a voltage drop across it\n",
    "0. **Power Supply Unit (PSU) / Launchpad** - enforces a fixed voltage between + and - (also called ground) ports\n",
    "0. **Wires** - conductive metal which lets current flow through it. Has the same potential along all points on it\n",
    "\n",
    "Current flows from high to low potential so it'll come out of the + port of the PSU looking for least resistive paths to get to the - port of the PSU. In our schematic, the current will first flow out of the + PSU through the LED (if the LED polarity is correct) then the resistor before reaching the - terminal of the PSU. \n",
    "\n",
    "\n",
    "<center>\n",
    "<img style=\"height: 300px;\" src=\"images/diag_current.png\"/>\n",
    "</center>"
   ]
  },
  {
   "cell_type": "markdown",
   "metadata": {},
   "source": [
    "Now we will walk through a couple of exercises to get more familiar with breadboarding and its benefits! For the following 3 exercises we will be trying to build the same schematic.\n",
    "\n",
    "#### Materials & Equipment\n",
    "\n",
    "\n",
    "Make sure you have the following in front of you:\n",
    "- Launchpad with female-to-male wires connected to the 3V3 and GND ports\n",
    "- 1x LED\n",
    "- 1x resistor (1k $\\Omega$) - (Brown, Black, Red, Gold)\n",
    "- male to male wires\n",
    "- 1x breadboard\n",
    "\n",
    "**<span style=\"color:red\">Reminder to use [this doc](https://docs.google.com/document/d/e/2PACX-1vTVrGBDbRfVI0_LjSeTfw8doili8iS_E_9Fwdk2UShgf7WAgVVoHtyMOpjXadXwD45HNXUbb2ASF18H/pub#h.xzcoxtym09nb) for any questions regarding equipment usage.</span>**\n",
    "\n",
    "## Step 1: No Breadboard\n",
    "\n",
    "<center>\n",
    "<img style=\"height: 300px;\" src=\"images/diag.png\"/></div>\n",
    "</center>\n",
    "\n",
    "First, let's see how we can build the above schematic without using a breadboard.\n",
    "\n",
    "0. The launchpad is set to power your circuit with 3.3 V and current limit of 0.1 A\n",
    "0. Touch the + PSU cable (3V3 pin cable) to the long leg of the LED - you will need to hold it there, so pinch them together between your thumb and index fingers.\n",
    "0. Touch the - PSU cable (GND pin cable) to one resistor leg - again, you will need to hold it there, so do this with your other hand.\n",
    "0. Touch the short leg of the LED to the other unconnected leg of the resistor\n",
    "\n",
    "<center>\n",
    "<img style=\"height: 200px;\" src=\"images/no_breadboard_hand.jpg\"/></div>\n",
    "</center>\n",
    "\n",
    "Did the LED light up?! Try imagining the current flow through your circuit and convince yourself that what is in front of you is exactly the same as the schematic we have."
   ]
  },
  {
   "cell_type": "markdown",
   "metadata": {},
   "source": [
    "We have discovered one way to build our circuit schematic! However, you can probably already tell that this method is not very scalable, as you need both of your hands to hold the components together. Imagine that our schematic was more complex, with more resistors and LEDs... It would be hard to manually keep all the components together with good connection and your circuit would end up being very fragile and messy.\n",
    "\n",
    "## Step 2: Breadboarding with Power Rails\n",
    "Now let's try taking advantage of the breadboard to help us make these electrical connections for the same schematic!\n",
    "\n",
    "0. Insert the LED and resistor into the breadboard like in the image below. Make sure the longer LED leg is in a lower row number.\n",
    "0. Insert the male end of the red 3V3 launchpad wire into the + rail on the **left** side of the breadboard.\n",
    "0. Insert the male end of the black GND launchpad wire into the - rail on the **left** side of the breadboard.\n",
    "0. Use 1 male-to-male wire to connect the + rail to the row with the long LED leg\n",
    "0. Use another male-to-male wire to connect the - rail to the bottom resistor leg.\n",
    "\n",
    "<center>\n",
    "<img style=\"height: 300px;\" src=\"images/ex3_breadboard.png\"/></div>\n",
    "</center>\n",
    "**Did the LED light up again? Why is this also a valid construction of the same circuit schematic?** \n",
    "\n",
    "The answer has to do with how a breadboard is internally connected (see image below). Each row of 5 holes (ABCDE or FGHIJ) are electrically connected to each other within the breadboard (underneath the plastic) so we can imagine tiny jumper wires connecting all of the 5 holes to each other. Since these 5 holes are connected, they are all on the same node and should have the same potential. The 2 columns of holes (a red +  and blue - column) on the side of your breadboard are often referred to as the power rails. Instead of horizontal internal connections, the power rails are connected vertically all the way down the side.\n",
    "\n",
    "Notice how there is a separate piece of conductive metal connecting each row of columns ABCDE and FGHIJ. The metal row splits between columns E and F so the 2 sides of each row can have different voltage readings. The same is true for all 4 power rails. Even though the 2 sets look the same, they are in no way internally linked.\n",
    "\n",
    "<center>\n",
    "<img style=\"height: 200px;\" src=\"images/breadboard_pulled_rail.jpg\"/></div>\n",
    "</center>\n",
    "**Keeping in mind that current will flow through all the metal internal breadboard connections, convince yourself again that this circuit has current flowing through the LED and resistor in the same exact way as in the previous circuit setup.**\n"
   ]
  },
  {
   "cell_type": "markdown",
   "metadata": {},
   "source": [
    "**ANSWER THE FOLLOWING QUESTIONS ABOUT YOUR BREADBOARDED CIRCUIT:**\n",
    "<font color=\"red\">\n",
    "1. Move the LED to the right half of the breadboard by moving it to **column J** while keeping the 2 legs in the same rows. Did the LED light up? Is the breadboard internally connected across the gap (between col E and F)?\n",
    "</font>"
   ]
  },
  {
   "cell_type": "markdown",
   "metadata": {},
   "source": [
    "`YOUR ANSWER HERE`"
   ]
  },
  {
   "cell_type": "markdown",
   "metadata": {},
   "source": [
    "<font color=\"red\">\n",
    "2. Do you need the two jumper wires that connect the vertical rails to the horizontal rails from the first picture under step 2? Move your resistor and LED so that you don't need those jumpers. Does the LED still light up? \n",
    "</font>"
   ]
  },
  {
   "cell_type": "markdown",
   "metadata": {},
   "source": [
    "`YOUR ANSWER HERE`"
   ]
  },
  {
   "cell_type": "markdown",
   "metadata": {},
   "source": [
    "<a id='task1b'></a>\n",
    "## <span style=\"color:blue\">Task 1b: Breadboard Debugging</span>\n",
    "\n",
    "Take a look at the breadboard on the left and compare it to the circuit diagram on the right. Assuming the ground rails are plugged in correctly (+ is +3.3V, - is GND), can you identify **two** differences between the breadboarded circuit and the circuit diagram? What will happen if the circuit is plugged in? What will happen if you fix the circuit to be identical to the circuit diagram and then plug it in? Feel free to build both the 'buggy' and correct circuits on your breadboard to compare them!"
   ]
  },
  {
   "cell_type": "markdown",
   "metadata": {},
   "source": [
    "<center style=\"font-size: 18px; font-weight: bold;\">\n",
    "<div style=\"display: inline-block; margin-left: auto; margin-right: auto; margin-bottom: 14px;\" border=\"0\"><div>Breadboard Image</div>\n",
    "<img style=\"height: 500px;\" src=\"images/touch_1_bb2_1.png\"/></div>\n",
    "\n",
    "<div style=\"display: inline-block; margin-left: 10px; margin-right: auto; margin-bottom: 14px;\" border=\"0\"><div>Intended circuit diagram</div>\n",
    "<img style=\"height: 500px;\" src=\"images/touch_1_sc2_1.png\"/></div>\n",
    "\n",
    "</center>"
   ]
  },
  {
   "cell_type": "markdown",
   "metadata": {},
   "source": [
    "**<span style=\"color:red\">What are the problems with the buggy breadboard? If you are having trouble identifying the issue, try and recreate the breadboard, and power it with the PSU/Launchpad supplying $3.3V$ and $0.1A$. Fix the so that the LED lights up.</span>**\n",
    "\n",
    "Hint: Try to follow the current like you did above, travelling clockwise throught the components, starting at the (+) of the PSU."
   ]
  },
  {
   "cell_type": "markdown",
   "metadata": {},
   "source": [
    "`YOUR ANSWER HERE` <br><br>"
   ]
  },
  {
   "cell_type": "markdown",
   "metadata": {},
   "source": [
    "<a id='task2'></a>\n",
    "## <span style=\"color:blue\">Task 2: Setting Up the Ambient Light Sensor</span>\n",
    "#### Materials & Equipment\n",
    "* **From the Lab Kit**\n",
    "<br/><br/>\n",
    "<center>\n",
    "<table>\n",
    "<tr>\n",
    "<td width=\"180px\" style=\"border: 1px solid #000000;\"><center>1x Ambient Light Sensor</center></td>\n",
    "<td width=\"180px\" style=\"border: 1px solid #000000;\"><center>1x **100k$\\Omega$** Resistor<br/>**[Brown-Black-Yellow-Gold]**</center></td>\n",
    "<td width=\"180px\" style=\"border: 1px solid #000000;\"><center>1x Breadboard</center></td>\n",
    "<td width=\"180px\" style=\"border: 1px solid #000000;\"><center>2x Male-to-Male Jumper Wires with Exposed Metal Connections on Both Ends</center></td>\n",
    "</tr>\n",
    "<tr>\n",
    "<td style=\"border: 1px solid #000000;\"><img src=\"images/phototransistor.svg\" style=\"width: 180px;\"/></td>\n",
    "<td style=\"border: 1px solid #000000;\"><img src=\"images/res100k.png\" style=\"width: 180px;\"/></td>\n",
    "<td style=\"border: 1px solid #000000;\"><img src=\"images/bb.png\" style=\"width: 180px;\"/></td>\n",
    "<td style=\"border: 1px solid #000000;\"><img src=\"images/mm-jumper.png\" style=\"width: 180px;\"/></td>\n",
    "</table>\n",
    "</center>\n",
    "<br/>\n",
    "\n",
    "* **Launchpad power supply setup from previous steps**\n",
    "\n",
    "<span style=\"color:red\">Note: This step requires a **different resistor** than the one used in previous steps. Make sure you have the new resistor on hand.</span>"
   ]
  },
  {
   "cell_type": "markdown",
   "metadata": {},
   "source": [
    "<center><img src=\"images/task1_schem.svg\" align=\"center\" style=\"height:200px\" /><figcaption>Task 2 Schematic</figcaption></center>\n",
    "<br/>\n",
    "This is an overview of what we are about to do. Step by step instructions are after this. First, we will use the breadboard to construct the circuit shown in the schematic above. Next, we will power the circuit using the Launchpad, and then we will use a virtual oscilloscope to observe the voltage over time at various points in the circuit, including between points A and B. \n",
    "\n",
    "An [oscilloscope](https://docs.google.com/document/d/e/2PACX-1vTVrGBDbRfVI0_LjSeTfw8doili8iS_E_9Fwdk2UShgf7WAgVVoHtyMOpjXadXwD45HNXUbb2ASF18H/pub#h.68cks3ejgw6r) is a useful piece of test equipment that can be used to measure signals. We will use the Launchpad as a virtual oscilloscope to measure voltage values at points in our circuits.\n",
    "\n",
    "You can see how the components are connected with the following image:\n",
    "<br/><br/>\n",
    "<center>\n",
    "<img src=\"images/LED_bb.png\" align=\"center\" style=\"height:600px\" />\n",
    "<figcaption>Cartoon View: How the Circuit Components, Breadboard, and Launchpad Should Be Hooked Up</figcaption>\n",
    "</center>\n",
    "<br/>\n",
    "\n",
    "\n",
    "<span style=\"color:red\">**DO THE FOLLOWING STEPS TO SET UP YOUR LIGHT SENSING CIRCUIT**</span>\n",
    "1. Connect the shorter leg of the ambient light sensor to any hole in the **<span style=\"color:red\">red (+) column</span>** of the breadboard. Connect the longer leg of the ambient light sensor to any hole that is in a **lettered column** and *NOT* in the <span style=\"color:red\">red (+) column</span> OR the <span style=\"color:blue\">blue (-) column.</span>\n",
    "\n",
    "2. Connect one leg of the **100 $k\\Omega$** resistor to a hole in the **same row** (and side of the breadboard) as the longer leg of the ambient light sensor. Connect the other leg of the resistor to any hole in the **<span style=\"color:blue\">blue (-) column</span>** of the breadboard. Be careful to prevent the metal parts of the two components from touching.\n",
    "\n",
    "3. Connect your \"3V3\" wire's male end to the (+) column.\n",
    "\n",
    "4. Connect your \"GND\" wire's male end to the (-) column.\n",
    "\n",
    "5. Grab a new male-to-female wire, and plug in the female end of it to the launchpad \"P6.0\" pin on the front left. \n",
    "\n",
    "6. Connect the male end of the \"P6.0\" pin to another point in the (+) column.\n",
    "\n",
    "For reference, the \"P6.0\" pin is highlighted in yellow.\n",
    "<td><center><img src=\"images/launchpad_pins.png\" align=\"center\" style=\"height:300px\" /><figcaption>Launchpad Front with Pins Labelled</figcaption></center></td>"
   ]
  },
  {
   "cell_type": "markdown",
   "metadata": {},
   "source": [
    "Now that the Launchpad power supply and data-reading pin has been connected, let's upload some code that will simulate our oscilloscope. \n",
    "\n",
    "1. Download the folder [LightSensor](https://drive.google.com/drive/folders/1O_5PQzmdUxcT79IRGfLmrJhw-aUEFNtr).\n",
    "2. [Upload the code](https://docs.google.com/document/d/e/2PACX-1vTVrGBDbRfVI0_LjSeTfw8doili8iS_E_9Fwdk2UShgf7WAgVVoHtyMOpjXadXwD45HNXUbb2ASF18H/pub#h.6wu473h55i4) for \"LightSensor.ino\" to your Launchpad. Again, make sure you select the correct com port in this step, and click the **\"Upload\"** button (white circle with a right-pointing arrow)\n",
    "This file has code to periodically read voltage from the Launchpad's pin **`P6.0`** and send this data over a serial interface called UART to a computer.\n",
    "3. Reset the launchpad using the \"RST\" button (see picture above).\n",
    "4. Use [these directions](https://docs.google.com/document/d/e/2PACX-1vTVrGBDbRfVI0_LjSeTfw8doili8iS_E_9Fwdk2UShgf7WAgVVoHtyMOpjXadXwD45HNXUbb2ASF18H/pub#h.vq34xeg8hdke) to open up your serial monitor. **Tools -> Serial Monitor** or (Ctrl/command + Shift + m) are convenient shortcuts for thsi step.\n",
    "5. Select the correct Baud Rate in the bottom right corner (115200), type in 6, and press enter."
   ]
  },
  {
   "cell_type": "markdown",
   "metadata": {},
   "source": [
    "Once you have completed the steps above, you should be seeing a stream of numbers, as the serial monitor presents a numerical display of the data received over UART from the Launchpad. If the numbers do not appear, try some of the following:\n",
    "1. Reset the launchpad using the \"RST\" button (see picture above), this is the most likely bug.\n",
    "2. Unplug and replug the Launchpad\n",
    "3. Double check that you selected the baud rate as 115200\n",
    "4. Double check your com port is correct"
   ]
  },
  {
   "cell_type": "markdown",
   "metadata": {},
   "source": [
    "#### Questions\n",
    "1. We connected the \"P6.0\" pin to the (+) rail of the breadboard. **<span style=\"color:red\">What is the value that is output on the serial monitor? </span>** (You may ignore the first two values in each row, pay attention to the third value). Trace the red wire that connects to your power supply. **<span style=\"color:red\"> Does this value agree with the labeled value on the launchpad?</span>**"
   ]
  },
  {
   "cell_type": "markdown",
   "metadata": {},
   "source": [
    "`YOUR ANSWER HERE`"
   ]
  },
  {
   "cell_type": "markdown",
   "metadata": {},
   "source": [
    "2. Now, close your serial monitor. Unplug the male end of your \"P6.0\" pin from the breadboard, and put it into a point on the (-) rail instead. Open your serial monitor again.\n",
    "**<span style=\"color:red\">What is the value that is output on the serial monitor? </span>** (You may ignore the first two values in each row, pay attention to the third value). Trace the black wire that connects to your power supply. **<span style=\"color:red\"> Does this value agree with the labeled value on the launchpad?</span>**\n"
   ]
  },
  {
   "cell_type": "markdown",
   "metadata": {},
   "source": [
    "`YOUR ANSWER HERE`"
   ]
  },
  {
   "cell_type": "markdown",
   "metadata": {},
   "source": [
    "3. Now, recall that we said this circuit component was an [ambient light sensor](https://docs.google.com/document/d/e/2PACX-1vTVrGBDbRfVI0_LjSeTfw8doili8iS_E_9Fwdk2UShgf7WAgVVoHtyMOpjXadXwD45HNXUbb2ASF18H/pub#h.cfa3dkn1uma5). We have been measuring the voltages at specific points in the circuit, yet the values above remained fairly constant, although the lighting probably fluctuated. **<span style=\"color:red\">If this circuit is supposed to sense light and respond accordingly, do you have a guess as to why there doesn't seem to be a response?</span>**"
   ]
  },
  {
   "cell_type": "markdown",
   "metadata": {},
   "source": [
    "`YOUR ANSWER HERE`"
   ]
  },
  {
   "cell_type": "markdown",
   "metadata": {},
   "source": [
    "In the three steps above, we went through some simple debugging techniques. By \"probing\" the circuit (plugging in our data wire, \"P6.0\"), we were able to find out the voltages at specific points in the circuit. This debugging technique can be very useful in future labs, if you cannot figure out where there is a bug in your circuit, you can always probe individual points and check if their voltage values are as expected. So far, we probed the two power rails. \n",
    "Now, let's probe the other point in our circuit. \n",
    "\n",
    "Close your serial monitor, and connect the \"P6.0\" pin as in the following diagram. \n",
    "\n",
    "<center>\n",
    "<img src=\"images/task2_bb.svg\" align=\"center\" style=\"height:500px\" />\n",
    "</center>"
   ]
  },
  {
   "cell_type": "markdown",
   "metadata": {},
   "source": [
    "Again, open up your serial monitor. You should see a stream of numbers, but now the third number in each row should be varying. If you are getting very low values, or symbols that are not numbers, make sure your sensor is plugged in the correct orientation (shorter leg in (+) rail), and that your baud rate is 9600.\n",
    "Your Energia setup at this point should look something like this:\n",
    "<br/><br/>\n",
    "<center>\n",
    "<img src=\"images/com_oscilloscope.png\" align=\"center\" style=\"height:400px\" />\n",
    "</center>\n",
    "<br/>\n",
    "\n",
    "**<span style=\"color:red\">Try covering the ambient light sensor with your hand. What happens to the numbers in the serial monitor as the amount of ambient light changes? Do these numbers increase or decrease as the amount of ambient light increases? </span>** Note: Try shining a cell phone flashlight at your sensor as well. "
   ]
  },
  {
   "cell_type": "markdown",
   "metadata": {},
   "source": [
    "`YOUR ANSWER HERE`"
   ]
  },
  {
   "cell_type": "markdown",
   "metadata": {},
   "source": [
    "<a id='task3'></a>\n",
    "## <span style=\"color:blue\">Task 3: Virtual Oscilloscope</span>\n",
    "#### Materials & Equipment\n",
    "* **From the Lab Kit**\n",
    "<br/><br/>\n",
    "<center>\n",
    "<table>\n",
    "<tr>\n",
    "<td width=\"180px\" style=\"border: 1px solid #000000;\"><center>1x Capacitor. It will most likely be yellow, with long legs. Use the 0.1$\\mu$F capacitor (it says 104 on it).</center></td>\n",
    "</tr>\n",
    "<tr>\n",
    "<td style=\"border: 1px solid #000000;\"><img src=\"images/long_cap.png\" style=\"width: 180px;\"/></td>\n",
    "</table>\n",
    "</center>\n",
    "<br>\n",
    "* **Other Supplies**\n",
    "\n",
    "  * 1x Setup from Task 2\n",
    "  \n",
    "  \n",
    "  \n",
    "### <span style=\"color:red\"> Now, close the Serial Monitor, and open the Serial Plotter. You can open the Serial Plotter in **Tools -> Serial Plotter** or use the keyboard shortcut (Ctrl/command + Shift + L). </span>\n",
    "\n",
    "You should see a moving plot. This is the visual version of the oscilloscope. The vertical axis is in units of Volts, and the horizontal axis is in a general unit of time. **Try covering part of the ambient light sensor and see what happens to the plot.** You can also wave your hand above the sensor and see how it will respond."
   ]
  },
  {
   "cell_type": "markdown",
   "metadata": {},
   "source": [
    "**Follow the steps below to add the capacitor to the circuit, per the schematic below.**\n",
    "<br><br>\n",
    "<center>\n",
    "<img src=\"images/task3_schem.svg\" align=\"center\" style=\"width:300px\" />\n",
    "<figcaption>Task 3 Schematic</figcaption>\n",
    "</center>\n",
    "\n",
    "1. Close the serial plotter.\n",
    "\n",
    "2. Disconnect the male ends of the three wires that connect between the Launchpad and the breadboard. Keep the female ends connected to the Launchpad, but the male ends of the 3V3, GND, and P6.0 wires should no longer be connected to the breadboard.\n",
    "\n",
    "3. Put one leg of the capacitor in the row that is shared between one leg of the ambient light sensor and one leg of the resistor. Be careful that the metal parts of the resistor, capacitor, and ambient light sensor don't touch!\n",
    "\n",
    "4. Put the other leg of the capacitor in any hole in the **<span style=\"color:blue\">blue (-) column</span>** of the breadboard; the other leg of the resistor is also in this column. If the leg can't reach, try rearranging your components or use another jumper wire. The resistor and capacitor are now connected in \"parallel\".\n",
    "\n",
    "5. Reconnect the jumper wires (3V3, GND, P6.0) from the Launchpad in the same places as before. Your circuit should now resemble the pictures below (actual holes used may vary):\n",
    "<center>\n",
    "<img src=\"images/task3_bb.svg\" align=\"center\" style=\"height:400px\" />\n",
    "<figcaption>Cartoon View: How the Circuit Components, Breadboard, and Launchpad Jumper Wires Should Be Hooked Up</figcaption>\n",
    "</center>\n",
    "<br>\n",
    "<center>\n",
    "<img src=\"images/withcap.jpg\" align=\"center\" style=\"width:250px\" />\n",
    "<figcaption>Actual Setup</figcaption>\n",
    "</center>\n",
    "\n",
    "Open up the serial plotter again to see the virtual oscilloscope. **<span style=\"color:red\"> Did the capacitor make a difference? (Hint: The difference is subtle, but still noticeable. Putting the serial plotter in fullscreen may help.).</span> To really observe the effect of the capacitor, keep the Virtual Oscilloscope running and try to get the curve to hover around a non-max value. Then, repeatedly take the capacitor out of the breadboard and put it back in.**"
   ]
  },
  {
   "cell_type": "markdown",
   "metadata": {},
   "source": [
    "`YOUR ANSWER HERE`"
   ]
  },
  {
   "cell_type": "markdown",
   "metadata": {},
   "source": [
    "**<span style=\"color:red\"> Imagine we want to take pictures with this light sensor circuit by recording the data values sensed at various locations in an image. Would you prefer to use the circuit without the capacitor, or the one with the capacitor? Why? </span>**"
   ]
  },
  {
   "cell_type": "markdown",
   "metadata": {},
   "source": [
    "`YOUR ANSWER HERE` "
   ]
  },
  {
   "cell_type": "markdown",
   "metadata": {},
   "source": [
    "<a id='checkoff'></a>\n",
    "## Checkoff\n",
    "When you are ready to get checked off,\n",
    "1. Fill out the checkoff google form. **[Checkoff Form](https://forms.gle/TLjsE68kEf8QpcWa9)**\n",
    "2. Submit a **checkoff** request on the lab queue. **[Checkoff queue](https://lab.eecs16a.org)** It is fine if only one person from your group submits the queue request, but everyone must submit their own google form. \n",
    "\n",
    "Your GSI or a Lab Assistant will join your breakout room when they are available and go through some checkoff questions with your group. They will go through the checkoff list in order. Please be patient!\n",
    "\n",
    "## **<span style=\"color:red\"> Do not take apart your setup before being checked off. </span>**\n"
   ]
  },
  {
   "cell_type": "markdown",
   "metadata": {},
   "source": [
    "<a id='extra'></a>\n",
    "## Additional Resources\n",
    "Congratulations, you can now record sensor data on a computer!\n",
    "There are all kinds of exciting things you can do with this setup. Once your sensor data is accessible in Python, you can use sensor input as a cue to send a text message or tweet, start or stop programs, and more! The possibilities are endless!\n",
    "\n",
    "If you're interested in applying what you've learned to your own personal projects, there are a variety of spaces on campus with additional resources to support these kinds of activities: \n",
    "* [Supernode (246 Cory Hall)](http://supernode.berkeley.edu)\n",
    "* [CITRIS Invention Lab (141 Sutardja Dai Hall)](http://invent.citris-uc.org)\n",
    "* [Jacobs Hall](http://engineeringdesign.berkeley.edu/jacobs-hall/)"
   ]
  }
 ],
 "metadata": {
  "anaconda-cloud": {},
  "kernelspec": {
   "display_name": "Python 3",
   "language": "python",
   "name": "python3"
  },
  "language_info": {
   "codemirror_mode": {
    "name": "ipython",
    "version": 3
   },
   "file_extension": ".py",
   "mimetype": "text/x-python",
   "name": "python",
   "nbconvert_exporter": "python",
   "pygments_lexer": "ipython3",
   "version": "3.8.0"
  }
 },
 "nbformat": 4,
 "nbformat_minor": 1
}
