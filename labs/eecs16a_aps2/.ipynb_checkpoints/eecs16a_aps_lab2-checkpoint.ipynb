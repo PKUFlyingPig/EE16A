{
 "cells": [
  {
   "cell_type": "markdown",
   "metadata": {
    "collapsed": true,
    "tags": [
     "worksheet-0"
    ]
   },
   "source": [
    "# APS Lab 2: Finding Position with Linear Least Squares\n",
    "\n",
    "### EECS16A: Designing Information Devices and Systems I, Summer 2020\n",
    "\n",
    "<!------ Developed by Phil Sandborn, Seiya Ono, Linda Du ------>"
   ]
  },
  {
   "cell_type": "markdown",
   "metadata": {
    "collapsed": true,
    "tags": [
     "worksheet-0"
    ]
   },
   "source": [
    "#### [Introduction](#w3)\n",
    "#### [Task 0: Imports](#task0)\n",
    "#### [Multilateration](#q31)\n",
    "#### [Task 1: Constructing the System of Equations](#task1)\n",
    "#### [Task 2: Using Least Squares](#task2)\n",
    "#### [Task 3a: Simulation Testing](#task3a)\n",
    "#### [Task 3b: Real Life Positioning](#task3b)"
   ]
  },
  {
   "cell_type": "markdown",
   "metadata": {
    "collapsed": true,
    "tags": [
     "worksheet-0"
    ]
   },
   "source": [
    "<a id='w3'></a>\n",
    "# Introduction\n",
    "\n",
    "**<span style=\"color:red\">\n",
    "If you have not completed APS 1 yet, you must do that one first, or this lab will not make any sense. You can then complete APS 2 during the next and final buffer lab.\n",
    "</span>**\n",
    "\n",
    "In the last lab we introduced the signal processing part for our lab and obtained the TDOA's (Time Difference Of Arrivals) of different beacon signals. This week we are going to explore methods that help us determine the final position."
   ]
  },
  {
   "cell_type": "markdown",
   "metadata": {
    "collapsed": true,
    "tags": [
     "worksheet-0"
    ]
   },
   "source": [
    "<a id='task0'></a>\n",
    "# <span style=\"color:blue\">Task 0: Imports</span>"
   ]
  },
  {
   "cell_type": "code",
   "execution_count": null,
   "metadata": {
    "scrolled": false,
    "tags": [
     "worksheet-0"
    ]
   },
   "outputs": [],
   "source": [
    "%pylab inline\n",
    "%run support_code/helper_functions.py"
   ]
  },
  {
   "cell_type": "markdown",
   "metadata": {},
   "source": [
    "<a id='q31'></a>\n",
    "# Multilateration\n",
    "\n",
    "Multilateration is a technique sometimes used in positioning systems to precisely locate a receiver by measuring the time difference of arrivals (TDOAs) from several synchronized *Beacons* at one receiver location.\n",
    "\n",
    "Suppose we have $n$ beacons $B_0$, $B_1$, ... $B_{n - 1}$, so the position of a beacon $B_m$ in the 2-D plane will be $B_m = (x_m, y_m)$. These positions are known. We also have a receiver $R$ with unknown position $(x, y)$ in the same plane. Let $R_m$ denote the distance of $B_m$ to $R$, $R_m = \\sqrt{(x - x_m)^2 + (y - y_m)^2}$. \n",
    "\n",
    "For simplification, in this lab we set the first beacon $B_0$ at position (0, 0), as a reference. We also let $\\tau_0$, $\\tau_1$ ... $\\tau_{n - 1}$ denote the TDOA's. Since we are referencing the first beacon, $\\tau_0$ is zero.\n",
    "\n",
    "Recall from last week that we find the distances from speakers to the microphone with the arrival time of the first beacon $t_0$. However in a real application like GPS finding $t_0$ is impossible. Thus we are unable to get the exact distances from the speakers to the microphone. Instead of obtaining circles as we got last week, we are only able to get hyperbolic solutions, which is explained below. \n",
    "\n",
    "**<span style=\"color:red\">\n",
    "This is a math-heavy section and requires a careful and thorough reading. Do this before writing any code. If anything is unclear, ask a TA for help before proceeding.\n",
    "</span>**\n",
    "\n",
    "\n",
    "**Setting up n-1 hyperbolic equations:** Luckily we can still find the relationship of position $R = (x, y)$ and $B_m = (x_m, y_m)$ with some calculations. Let $v_s$ be the speed of sound and $R_0$ be the distance between $R$ and Beacon $B_0$, which we have positioned at the origin. We can setup our initial equation using the fact distance is the speed of sound multiplied by the time of travel:\n",
    "\n",
    "$$R_m - R_0 = v_s \\tau_m$$\n",
    "$$\\text{multiply this by } R_m + R_0$$\n",
    "\n",
    "---\n",
    "\n",
    "$$(R_m - R_0)(R_m + R_0) = v_s \\tau_m (R_m + R_0)$$\n",
    "$$\\text{Distribute left side}$$\n",
    "\n",
    "---\n",
    "\n",
    "$$R_m^2-R_0^2 = v_s \\tau_m (R_m + R_0)$$ \n",
    "$$\\text{Divide by }v_s \\tau_m$$\n",
    "\n",
    "---\n",
    "\n",
    "$$\\frac{R_m^2-R_0^2}{v_s\\tau_m}=R_m+R_0$$\n",
    "$$\\text{Rewrite } R_m+R_0 \\text{ as } R_m-R_0+2R_0$$\n",
    "\n",
    "---\n",
    "\n",
    "$$\\frac{R_m^2-R_0^2}{v_s\\tau_m} = R_m - R_0 + 2R_0$$\n",
    "$$\\text{Group right hand side}$$\n",
    "\n",
    "---\n",
    "\n",
    "$$\\frac{R_m^2-R_0^2}{v_s\\tau_m} = (R_m-R_0)+2R_0$$\n",
    "$$\\text{Using } R_m-R_0=v_s\\tau_m \\text{ from above, substitute}$$\n",
    "\n",
    "---\n",
    "$$v_s\\tau_m + 2R_0 = \\frac{R_m^2-R_0^2}{v_s\\tau_m}$$\n",
    "$$\\text{Move } 2R_0 \\text{ to the other side}$$\n",
    "\n",
    "---\n",
    "\n",
    "$$v_s\\tau_m = \\frac{R_m^2-R_0^2}{v_s\\tau_m} - 2R_0$$\n",
    "$$\\text{ sub in $R_m = \\sqrt{(x - x_m)^2 + (y - y_m)^2}$ from above for all  $R_m$}$$\n",
    "$$\\text{Recognize that } R_0 = \\sqrt{x^2+y^2} \\text{ because } $$\n",
    "$$x_0 = 0 \\text{ and } y_0 = 0 \\text{ since it is at the origin}$$\n",
    "\n",
    "---\n",
    "\n",
    "$$v_s\\tau_m = \\frac{\\sqrt{(x - x_m)^2 + (y - y_m)^2}^2 - \\sqrt{x^2 + y^2}^2}{v_s\\tau_m} - 2\\sqrt{x^2 + y^2}$$\n",
    "$$\\text{Simplify Square Roots}$$\n",
    "\n",
    "---\n",
    "\n",
    "$$v_s\\tau_m=\\frac{(x-x_m)^2+(y-y_m)^2 - x^2 - y^2}{v_s\\tau_m} - 2\\sqrt{x^2+y^2}$$\n",
    "$$\\text{Distribute Squares}$$\n",
    "\n",
    "---\n",
    "\n",
    "$$v_s\\tau_m = \\frac{(x^2-2x x_m + x_m^2) + (y^2 - 2y y_m + y_m^2) - x^2 - y^2}{v_s\\tau_m} - 2\\sqrt{x^2+y^2}$$\n",
    "$$\\text{Cancel out } x^2 \\text{ and } y^2 \\text{ in numerator}$$\n",
    "\n",
    "---\n",
    "\n",
    "$$v_s\\tau_m = \\frac{-2x x_m + x_m^2 - 2y y_m + y_m^2}{v_s\\tau_m} - 2\\sqrt{x^2+y^2}$$"
   ]
  },
  {
   "cell_type": "markdown",
   "metadata": {
    "collapsed": true,
    "tags": [
     "worksheet-0"
    ]
   },
   "source": [
    "The code below shows an example of how the hyperbolic equation above is applied to three of four received beacon signals (recall that $B_0$ is our reference). Their intersection marks the position of the microphone.\n",
    "\n",
    "Suppose we have four speakers located at (0, 0), (5, 0), (0, 5), (5, 5), respectively. We will simulate the case where the microphone is positioned at (1.2, 3.6). Run the following block."
   ]
  },
  {
   "cell_type": "code",
   "execution_count": null,
   "metadata": {},
   "outputs": [],
   "source": [
    "hyperbola_demo_1()"
   ]
  },
  {
   "cell_type": "markdown",
   "metadata": {},
   "source": [
    "Solving for the intersection point of these hyperbolic equations in the plot above is computationally simple. However, real recorded signals will have error which will make an exact solution for all the beacons impossible. Least squares can be used to solve for the solution with the minimum amount of error, however this becomes mathematically difficult for non-linear equations such as our hyperbolas. Fortunately, we can linearize our system of equations to make least squares computationally simple and reliable.\n",
    "\n",
    "**Getting $n-2$ linear equations:** Our hyperbolic solution in the previous section involves a square root we wish to get rid of. Observing that our non-linear term $\\sqrt{x^2 + y^2}$ is independent of $x_m$ or $y_m$, we can sacrifice a beacon, $B_1$, to linearize our system:\n",
    "\n",
    "$$ v_s\\tau_m - v_s\\tau_1 = \\Bigg[\\frac{-2x_mx + {x_m}^2 -2y_my + {y_m}^2}{v_s\\tau_m} - 2\\sqrt{x^2 + y^2}\\Bigg] - \\Bigg[\\frac{-2x_1x + {x_1}^2 -2y_1y + {y_1}^2}{v_s\\tau_1} - 2\\sqrt{x^2 + y^2}\\Bigg]$$\n",
    "\n",
    "The subtraction removes the non-linear term. The final equation with respect to $B_m$ is ($m$ ranges from 2 to $n-1$): \n",
    "\n",
    "$$ \\Bigg(\\frac{2 x_m}{v_s\\tau_m}-\\frac{2 x_1}{v_s\\tau_1}\\Bigg)x + \\Bigg(\\frac{2 y_m}{v_s\\tau_m}-\\frac{2 y_1}{v_s\\tau_1}\\Bigg)y = \\Bigg(\\frac{{x_m}^2 + {y_m}^2}{v_s\\tau_m} - \\frac{{x_1}^2 + {y_1}^2}{v_s\\tau_1}\\Bigg) - \\Bigg(v_s\\tau_m - v_s\\tau_1\\Bigg)$$\n",
    "\n",
    "\n",
    "Below is the same equation written out as a matrix for a system that has $M$ speakers. $x$ and $y$ are the coordinates of your speaker that you would like to solve for.\n",
    "\n",
    "$$ \\large\n",
    "\\begin{bmatrix}\n",
    "    \\frac{2 x_2}{v_s\\tau_2}-\\frac{2 x_1}{v_s\\tau_1} & \n",
    "        \\frac{2 y_2}{v_s\\tau_2}-\\frac{2 y_1}{v_s\\tau_1} \\\\\n",
    "    \\frac{2 x_3}{v_s\\tau_3}-\\frac{2 x_1}{v_s\\tau_1} & \n",
    "        \\frac{2 y_3}{v_s\\tau_3}-\\frac{2 y_1}{v_s\\tau_1} \\\\\n",
    "    \\vdots & \n",
    "        \\vdots  \\\\\n",
    "    \\frac{2 x_m}{v_s\\tau_m}-\\frac{2 x_1}{v_s\\tau_1} & \n",
    "        \\frac{2 y_m}{v_s\\tau_m}-\\frac{2 y_1}{v_s\\tau_1} \\\\\n",
    "    \\vdots &\n",
    "        \\vdots \\\\\n",
    "    \\frac{2 x_M}{v_s\\tau_M}-\\frac{2 x_1}{v_s\\tau_1} & \n",
    "        \\frac{2 y_M}{v_s\\tau_M}-\\frac{2 y_1}{v_s\\tau_1} \\\\\n",
    "\\end{bmatrix}\n",
    "\\begin{bmatrix} \n",
    "    x \\\\  \n",
    "    y \n",
    "\\end{bmatrix} \n",
    "=\n",
    "\\begin{bmatrix} \n",
    "    (\\frac{{x_2}^2 + {y_2}^2}{v_s\\tau_2} - \\frac{{x_1}^2 + {y_1}^2}{v_s\\tau_1}) - (v_s\\tau_2 - v_s\\tau_1) \\\\\n",
    "    (\\frac{{x_3}^2 + {y_3}^2}{v_s\\tau_3} - \\frac{{x_1}^2 + {y_1}^2}{v_s\\tau_1}) - (v_s\\tau_3 - v_s\\tau_1) \\\\\n",
    "    \\vdots \\\\\n",
    "    (\\frac{{x_m}^2 + {y_m}^2}{v_s\\tau_m} - \\frac{{x_1}^2 + {y_1}^2}{v_s\\tau_1}) - (v_s\\tau_m - v_s\\tau_1) \\\\\n",
    "    \\vdots \\\\\n",
    "    (\\frac{{x_M}^2 + {y_M}^2}{v_s\\tau_M} - \\frac{{x_1}^2 + {y_1}^2}{v_s\\tau_1}) - (v_s\\tau_M - v_s\\tau_1) \n",
    "\\end{bmatrix}\n",
    "$$\n",
    "\n",
    "The result is a linear equation with our position as linear variables.\n",
    "\n",
    "**<span style=\"color:red\">\n",
    "What is the minimum number of beacons we need in order to be able to recover a position from our system?\n",
    "</span>**"
   ]
  },
  {
   "cell_type": "markdown",
   "metadata": {},
   "source": [
    "**`YOUR ANSWER HERE`**"
   ]
  },
  {
   "cell_type": "markdown",
   "metadata": {},
   "source": [
    "Run the code below to plot the speakers of our system."
   ]
  },
  {
   "cell_type": "code",
   "execution_count": null,
   "metadata": {
    "tags": [
     "worksheet-0"
    ]
   },
   "outputs": [],
   "source": [
    "plot_speakers_demo()"
   ]
  },
  {
   "cell_type": "markdown",
   "metadata": {
    "collapsed": true,
    "tags": [
     "worksheet-0"
    ]
   },
   "source": [
    "As we see in the above example, the microphone's position lies on the intersection of the curves. Finding the position of the microphone is equivalent to finding the solution for the linear system.\n",
    "\n",
    "**<span style=\"color:red\">\n",
    "Is our actual positioning system setup in this lab overdetermined or underdetermined? You may want to look at the presentation for APS 2 on the course website for a picture of the setup. Is this good or bad?\n",
    "</span>**"
   ]
  },
  {
   "cell_type": "markdown",
   "metadata": {},
   "source": [
    "**`YOUR ANSWER HERE`**"
   ]
  },
  {
   "cell_type": "markdown",
   "metadata": {},
   "source": [
    "**<span style=\"color:red\">\n",
    "Compare those two approaches (linear vs. hyperbolic equations). Which approach would be easier to implement?\n",
    "</span>**"
   ]
  },
  {
   "cell_type": "markdown",
   "metadata": {},
   "source": [
    "**`YOUR ANSWER HERE`**\n",
    "\n",
    "Reference (and more reading!): http://en.wikipedia.org/wiki/Multilateration"
   ]
  },
  {
   "cell_type": "markdown",
   "metadata": {
    "collapsed": true,
    "tags": [
     "worksheet-0"
    ]
   },
   "source": [
    "<a id='task1'></a>\n",
    "# <span style=\"color:blue\">Task 1: Constructing the System of Equations</span>\n",
    "\n",
    "Once we find the equations for each speaker and the microphone, we are able to construct a system of linear equations.\n",
    "\n",
    "**<span style=\"color:red\"> Write the function below that sets up the least squares problem. While the code block is large and may seem complex, the subfunctions that you have to fill in are much simpler. If you find yourself stuck, try fulfilling the exact requirements of the function you are working on, while ignoring the others.</span>**\n",
    "\n",
    "For your convenience, the matrix equation is copied here:\n",
    "\n",
    "$$ \\large\n",
    "\\begin{bmatrix}\n",
    "    \\frac{2 x_2}{v_s\\tau_2}-\\frac{2 x_1}{v_s\\tau_1} & \n",
    "        \\frac{2 y_2}{v_s\\tau_2}-\\frac{2 y_1}{v_s\\tau_1} \\\\\n",
    "    \\frac{2 x_3}{v_s\\tau_3}-\\frac{2 x_1}{v_s\\tau_1} & \n",
    "        \\frac{2 y_3}{v_s\\tau_3}-\\frac{2 y_1}{v_s\\tau_1} \\\\\n",
    "    \\vdots & \n",
    "        \\vdots  \\\\\n",
    "    \\frac{2 x_m}{v_s\\tau_m}-\\frac{2 x_1}{v_s\\tau_1} & \n",
    "        \\frac{2 y_m}{v_s\\tau_m}-\\frac{2 y_1}{v_s\\tau_1} \\\\\n",
    "    \\vdots &\n",
    "        \\vdots \\\\\n",
    "    \\frac{2 x_M}{v_s\\tau_M}-\\frac{2 x_1}{v_s\\tau_1} & \n",
    "        \\frac{2 y_M}{v_s\\tau_M}-\\frac{2 y_1}{v_s\\tau_1} \\\\\n",
    "\\end{bmatrix}\n",
    "\\begin{bmatrix} \n",
    "    x \\\\  \n",
    "    y \n",
    "\\end{bmatrix} \n",
    "=\n",
    "\\begin{bmatrix} \n",
    "    (\\frac{{x_2}^2 + {y_2}^2}{v_s\\tau_2} - \\frac{{x_1}^2 + {y_1}^2}{v_s\\tau_1}) - (v_s\\tau_2 - v_s\\tau_1) \\\\\n",
    "    (\\frac{{x_3}^2 + {y_3}^2}{v_s\\tau_3} - \\frac{{x_1}^2 + {y_1}^2}{v_s\\tau_1}) - (v_s\\tau_3 - v_s\\tau_1) \\\\\n",
    "    \\vdots \\\\\n",
    "    (\\frac{{x_m}^2 + {y_m}^2}{v_s\\tau_m} - \\frac{{x_1}^2 + {y_1}^2}{v_s\\tau_1}) - (v_s\\tau_m - v_s\\tau_1) \\\\\n",
    "    \\vdots \\\\\n",
    "    (\\frac{{x_M}^2 + {y_M}^2}{v_s\\tau_M} - \\frac{{x_1}^2 + {y_1}^2}{v_s\\tau_1}) - (v_s\\tau_M - v_s\\tau_1) \n",
    "\\end{bmatrix}\n",
    "$$"
   ]
  },
  {
   "cell_type": "code",
   "execution_count": null,
   "metadata": {
    "tags": [
     "worksheet-0"
    ]
   },
   "outputs": [],
   "source": [
    "def construct_system(speakers, TDOA, isac=1, plot=0):\n",
    "    \"\"\"Construct the components of the system according to a list of TDOA's\n",
    "    Args:\n",
    "    TDOA (np.array): an array of TDOA's\n",
    "    isac : index of speaker to be sacrificed for linearization\n",
    "    \n",
    "    Returns:\n",
    "    A (np.matrix): the matrix corresponding to the least squares system\n",
    "    b (np.array): the vector corresponding to the least squares system\n",
    "    \n",
    "    YOUR TASK:\n",
    "    1. Read over the doc strings to understand how the helper functions are to be implemented\n",
    "    2. Using the matrix system above as a reference, complete helpers x, y, and b\n",
    "    3. Take note of x_sac, y_sac, and t_sac below; think about how they can be used in the helper functions\n",
    "    4. Using your helper functions, complete \"BUILDING THE SYSTEM\" to make A and b\n",
    "    \"\"\"\n",
    "    x_sac, y_sac = speakers[isac]\n",
    "    t_sac = TDOA[isac]\n",
    "    v_s = 340.29\n",
    "    \n",
    "    def helperx(i):\n",
    "        \"\"\"Calculates the value for a row in the left column of the A matrix\n",
    "        Arg:\n",
    "        i : index of speaker to be used for the calculation\n",
    "        \n",
    "        Useful Variables: \n",
    "        speakers[i] : returns x_i, y_i (see x_sac and y_sac above for an example)\n",
    "        TDOA[i] : returns t_i \n",
    "        \n",
    "        Returns:\n",
    "        A[i, 0]'s calculated out value\n",
    "        \"\"\"\n",
    "        # YOUR CODE HERE\n",
    "        \n",
    "    \n",
    "    def helpery(i):\n",
    "        \"\"\"Calculates the value for a row in the right column of the A matrix\n",
    "        Arg:\n",
    "        i : index of speaker to be used for the calculation\n",
    "        \n",
    "        Useful Variables: \n",
    "        speakers[i] : returns x_i, y_i (see x_sac and y_sac above for an example)\n",
    "        TDOA[i] : returns t_i \n",
    "        \n",
    "        Returns:\n",
    "        A[i, 1]'s calculated out value\n",
    "        \"\"\"\n",
    "        # YOUR CODE HERE\n",
    "        \n",
    "    def helperb(i):\n",
    "        \"\"\"Calculates the ith value of the b vector\n",
    "        Arg:\n",
    "        i : index of speaker to be used for calculation\n",
    "        \n",
    "        Useful Variables: \n",
    "        speakers[i] : returns x_i, y_i (see x_sac and y_sac above for an example)\n",
    "        TDOA[i] : returns t_i \n",
    "        \n",
    "        Returns:\n",
    "        b[i]'s calculated out value\n",
    "        \"\"\"\n",
    "        # YOUR CODE HERE\n",
    "    \n",
    "    # BUILDING THE SYSTEM\n",
    "    A, b = [], []\n",
    "    for i in range(1, len(TDOA)):\n",
    "        if (i!=isac): #if i is not the index of the beacon to be sacrificed, add elements to A and b\n",
    "            # YOUR CODE HERE\n",
    "            A += \n",
    "            b += \n",
    "            \n",
    "            \n",
    "            \n",
    "    # PLOTTING\n",
    "    if plot==1: #plot the linear equations\n",
    "        x = np.linspace(-9, 9, 1000)\n",
    "        for i in range(len(b)):\n",
    "            y = [(b[i] - A[i][0]*xi) / A[i][1] for xi in x]\n",
    "            plt.plot(x, y, label=\"Equation\" + str(i + 1))   \n",
    "        plt.xlim(-9, 9)\n",
    "        plt.ylim(-6, 6)\n",
    "        plt.legend()\n",
    "        plt.show()\n",
    "        \n",
    "    # NORMALIZATIONS\n",
    "    AA, bb = [], []\n",
    "    for i in range(len(A)):\n",
    "        AA.append([A[i][0]/np.linalg.norm(A[i]), A[i][1]/np.linalg.norm(A[i])])\n",
    "        bb.append(b[i]/np.linalg.norm(A[i]))  \n",
    "        \n",
    "    return np.array(AA), np.array(bb)"
   ]
  },
  {
   "cell_type": "markdown",
   "metadata": {
    "collapsed": true,
    "tags": [
     "worksheet-0"
    ]
   },
   "source": [
    "Take a look at your results and make sure it works correctly (Don't worry if there are some small errors on order of +/- 0.5):"
   ]
  },
  {
   "cell_type": "code",
   "execution_count": null,
   "metadata": {
    "tags": [
     "worksheet-0"
    ]
   },
   "outputs": [],
   "source": [
    "construct_system_test(construct_system)"
   ]
  },
  {
   "cell_type": "markdown",
   "metadata": {},
   "source": [
    "$$ \\large\n",
    "\\begin{bmatrix}\n",
    "    \\frac{2 x_2}{v_s\\tau_2}-\\frac{2 x_1}{v_s\\tau_1} & \n",
    "        \\frac{2 y_2}{v_s\\tau_2}-\\frac{2 y_1}{v_s\\tau_1} \\\\\n",
    "    \\frac{2 x_3}{v_s\\tau_3}-\\frac{2 x_1}{v_s\\tau_1} & \n",
    "        \\frac{2 y_3}{v_s\\tau_3}-\\frac{2 y_1}{v_s\\tau_1} \\\\\n",
    "    \\vdots & \n",
    "        \\vdots  \\\\\n",
    "    \\frac{2 x_m}{v_s\\tau_m}-\\frac{2 x_1}{v_s\\tau_1} & \n",
    "        \\frac{2 y_m}{v_s\\tau_m}-\\frac{2 y_1}{v_s\\tau_1} \\\\\n",
    "    \\vdots &\n",
    "        \\vdots \\\\\n",
    "    \\frac{2 x_M}{v_s\\tau_M}-\\frac{2 x_1}{v_s\\tau_1} & \n",
    "        \\frac{2 y_M}{v_s\\tau_M}-\\frac{2 y_1}{v_s\\tau_1} \\\\\n",
    "\\end{bmatrix}\n",
    "\\begin{bmatrix} \n",
    "    x \\\\  \n",
    "    y \n",
    "\\end{bmatrix} \n",
    "=\n",
    "\\begin{bmatrix} \n",
    "    (\\frac{{x_2}^2 + {y_2}^2}{v_s\\tau_2} - \\frac{{x_1}^2 + {y_1}^2}{v_s\\tau_1}) - (v_s\\tau_2 - v_s\\tau_1) \\\\\n",
    "    (\\frac{{x_3}^2 + {y_3}^2}{v_s\\tau_3} - \\frac{{x_1}^2 + {y_1}^2}{v_s\\tau_1}) - (v_s\\tau_3 - v_s\\tau_1) \\\\\n",
    "    \\vdots \\\\\n",
    "    (\\frac{{x_m}^2 + {y_m}^2}{v_s\\tau_m} - \\frac{{x_1}^2 + {y_1}^2}{v_s\\tau_1}) - (v_s\\tau_m - v_s\\tau_1) \\\\\n",
    "    \\vdots \\\\\n",
    "    (\\frac{{x_M}^2 + {y_M}^2}{v_s\\tau_M} - \\frac{{x_1}^2 + {y_1}^2}{v_s\\tau_1}) - (v_s\\tau_M - v_s\\tau_1) \n",
    "\\end{bmatrix}\n",
    "$$\n",
    "\n",
    "Looking at the matrix form of our system, comment on the following:"
   ]
  },
  {
   "cell_type": "markdown",
   "metadata": {},
   "source": [
    "**<span style=\"color:red\">\n",
    "Why does the first row of the matrix start at $m=2$? Why does it not make sense to start at $m=0$ or $1$?\n",
    "</span>**"
   ]
  },
  {
   "cell_type": "markdown",
   "metadata": {},
   "source": [
    "**`YOUR ANSWER HERE`**"
   ]
  },
  {
   "cell_type": "markdown",
   "metadata": {},
   "source": [
    "**<span style=\"color:red\">\n",
    "What is the minimum number of rows that the matrix requires for this system to be solvable? Understanding how Linear Least Squares works, do we want more or exactly that many rows to get an accurate reading of our position?\n",
    "</span>**"
   ]
  },
  {
   "cell_type": "markdown",
   "metadata": {},
   "source": [
    "**`YOUR ANSWER HERE`**"
   ]
  },
  {
   "cell_type": "markdown",
   "metadata": {
    "collapsed": true,
    "tags": [
     "worksheet-0"
    ]
   },
   "source": [
    "<a id='task2'></a>\n",
    "# <span style=\"color:blue\">Task 2: Using Least Squares</span>\n",
    "\n",
    "**Definition**: If $A$ is an $m \\times n$ matrix and $\\vec{b}$ is in $\\mathbb{R}^m$, a **least-squares solution** of $A\\vec{x}=\\vec{b}$ is an $\\hat{\\vec{x}}$ in $\\mathbb{R}^n$ such that for all $\\vec{x}$ in $\\mathbb{R}^n$: $||\\vec{b} - A\\hat{\\vec{x}}|| \\leq ||\\vec{b} - A\\vec{x}||$.\n",
    "\n",
    "The solution for an overdetermined problem is given by solving the normal equations: $A^TA\\vec{x}=A^T\\vec{b}$."
   ]
  },
  {
   "cell_type": "markdown",
   "metadata": {
    "collapsed": true,
    "tags": [
     "worksheet-0"
    ]
   },
   "source": [
    "**Why do we need least-squares here?**\n",
    "\n",
    "During the transmission of sound in air, some noise is added into the signal. Most of the time we don't receive the original signal perfectly; in other words, the linear system is no longer consistent due to the modified signal. Also in our positioning system, we have more than 2 linear equations to improve the accuracy. However with more equations, the linear system is more likely to be inconsistent. Least-squares solution ensures a best approximation we can get, even if there is technically no solution to the system."
   ]
  },
  {
   "cell_type": "markdown",
   "metadata": {},
   "source": [
    "**<span style=\"color:red\">Implement the following function given arguments matrix A and vector b. Implement your own function of solving least-squares, do not use the least squares solver built into python. Make sure your code passes the test before moving on.</span>**"
   ]
  },
  {
   "cell_type": "code",
   "execution_count": null,
   "metadata": {
    "tags": [
     "worksheet-0"
    ]
   },
   "outputs": [],
   "source": [
    "def least_squares(A, b):\n",
    "    \"\"\"Solve the least squares problem\n",
    "    \n",
    "    Args:\n",
    "    A (np.array): the matrix in the least squares problem\n",
    "    b (np.array): the vector in the least squares problem\n",
    "    \n",
    "    Returns:\n",
    "    pos (np.array): the result of the least squares problem (x)    \n",
    "    \"\"\"\n",
    "\n",
    "    # YOUR CODE HERE\n",
    "    return \n",
    "    \n",
    "least_squares_test(least_squares)"
   ]
  },
  {
   "cell_type": "markdown",
   "metadata": {
    "collapsed": true,
    "tags": [
     "worksheet-0"
    ]
   },
   "source": [
    "**<span style=\"color:red\">Test your code with noisy inputs. Are all of the estimates in the cases with noise reasonable? Why or why not?</span>**\n",
    "(This would take for a while to compute. Don't worry if there are some small errors on the order of +/- 0.1)"
   ]
  },
  {
   "cell_type": "code",
   "execution_count": null,
   "metadata": {
    "tags": [
     "worksheet-0"
    ]
   },
   "outputs": [],
   "source": [
    "# Testing signals with noise\n",
    "test_loc(least_squares, construct_system, 1.2, 3.6, 30)\n",
    "test_loc(least_squares, construct_system, 1.2, 3.6, 40)\n",
    "test_loc(least_squares, construct_system, 1.2, 3.6, 50)"
   ]
  },
  {
   "cell_type": "markdown",
   "metadata": {
    "collapsed": true,
    "tags": [
     "worksheet-0"
    ]
   },
   "source": [
    "<a id='task3a'></a>\n",
    "# <span style=\"color:blue\">Task 3a: Simulation Testing</span>"
   ]
  },
  {
   "cell_type": "markdown",
   "metadata": {
    "collapsed": true,
    "tags": [
     "worksheet-0"
    ]
   },
   "source": [
    "**<span style=\"color:red\">You will go through a simulation to ensure that your code is working for a stable, slightly noisy simulation. Run the code below to test your code against our test signal. Your calculated position should be decently close to where we have placed the microphone. </span>**"
   ]
  },
  {
   "cell_type": "code",
   "execution_count": null,
   "metadata": {
    "scrolled": false
   },
   "outputs": [],
   "source": [
    "simulation_testing(construct_system, least_squares, 'test-signal.wav')"
   ]
  },
  {
   "cell_type": "markdown",
   "metadata": {},
   "source": [
    "<a id='task3b'></a>\n",
    "# <span style=\"color:blue\">Task 3b: \"Real Life\" Positioning </span>"
   ]
  },
  {
   "cell_type": "markdown",
   "metadata": {},
   "source": [
    "Now we are ready to determine speaker position in lab! \n",
    "\n",
    "\n",
    "**<span style=\"color:red\">NOTE: bottom-right.wav and test-signal.wav are already included in the folder containing this notebook. You only need one file to complete this part, although you may and are encouraged to rerun the code with a different file.</span>**\n",
    "\n",
    "\n",
    "If you wish to use a different file, download your chosen `.wav` file and move it to the same directory as this notebook. You can download a premade recording from [this folder](https://drive.google.com/drive/folders/1_ECVJ-nQkBN8FEisbswyP8keFNcqyeZm?usp=sharing). \n",
    "\n",
    "Run the cell below to see if your code can determine where you had \"placed\" your speaker. "
   ]
  },
  {
   "cell_type": "code",
   "execution_count": null,
   "metadata": {},
   "outputs": [],
   "source": [
    "user_test(construct_system, least_squares)"
   ]
  },
  {
   "cell_type": "markdown",
   "metadata": {},
   "source": [
    "## **Congratulations!**\n",
    "You have successfully located a microphone using techniques learned in lecture."
   ]
  },
  {
   "cell_type": "markdown",
   "metadata": {},
   "source": [
    "<a id='checkoff'></a>\n",
    "## Checkoff\n",
    "When you are ready to get checked off,\n",
    "1. Fill out the checkoff google form. **[Checkoff Form](https://forms.gle/TLjsE68kEf8QpcWa9)**\n",
    "2. Submit a **checkoff** request on the lab queue. **[Checkoff queue](https://lab.eecs16a.org)** It is fine if only one person from your group submits the lab queue request, but everyone must submit their own google form. \n",
    "\n",
    "Your GSI or a Lab Assistant will join your breakout room when they are available and go through some checkoff questions with your group. They will go through the checkoff list in order. Please be patient!\n",
    "\n",
    "## **<span style=\"color:red\"> Please have your notebook ready to demo before being checked off. </span>**"
   ]
  }
 ],
 "metadata": {
  "anaconda-cloud": {},
  "kernelspec": {
   "display_name": "Python 3",
   "language": "python",
   "name": "python3"
  },
  "language_info": {
   "codemirror_mode": {
    "name": "ipython",
    "version": 3
   },
   "file_extension": ".py",
   "mimetype": "text/x-python",
   "name": "python",
   "nbconvert_exporter": "python",
   "pygments_lexer": "ipython3",
   "version": "3.8.0"
  }
 },
 "nbformat": 4,
 "nbformat_minor": 1
}
